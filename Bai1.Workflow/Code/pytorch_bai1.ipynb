{
  "nbformat": 4,
  "nbformat_minor": 0,
  "metadata": {
    "colab": {
      "provenance": [],
      "gpuType": "T4"
    },
    "kernelspec": {
      "name": "python3",
      "display_name": "Python 3"
    },
    "language_info": {
      "name": "python"
    }
  },
  "cells": [
    {
      "cell_type": "markdown",
      "source": [
        "# Fundamentals"
      ],
      "metadata": {
        "id": "l2Ad26U4WxCm"
      }
    },
    {
      "cell_type": "code",
      "execution_count": null,
      "metadata": {
        "colab": {
          "base_uri": "https://localhost:8080/"
        },
        "id": "z1UNogqwSoRi",
        "outputId": "5161fda6-280f-456d-d4cd-4a825e66f0a7"
      },
      "outputs": [
        {
          "output_type": "stream",
          "name": "stdout",
          "text": [
            "2.5.1+cu121\n"
          ]
        }
      ],
      "source": [
        "import torch as t\n",
        "import pandas as pd\n",
        "import numpy as np\n",
        "import matplotlib.pyplot as plt\n",
        "print(t.__version__)"
      ]
    },
    {
      "cell_type": "markdown",
      "source": [
        "## Tensor"
      ],
      "metadata": {
        "id": "eykhAOAgWwOc"
      }
    },
    {
      "cell_type": "code",
      "source": [
        "#Scalar\n",
        "scalar = t.tensor(7)\n",
        "scalar"
      ],
      "metadata": {
        "colab": {
          "base_uri": "https://localhost:8080/"
        },
        "id": "bh0ZYfS5XUP9",
        "outputId": "43627681-47f7-402d-fbe8-4fc878230a59"
      },
      "execution_count": null,
      "outputs": [
        {
          "output_type": "execute_result",
          "data": {
            "text/plain": [
              "tensor(7)"
            ]
          },
          "metadata": {},
          "execution_count": 182
        }
      ]
    },
    {
      "cell_type": "code",
      "source": [
        "scalar.ndim"
      ],
      "metadata": {
        "colab": {
          "base_uri": "https://localhost:8080/"
        },
        "id": "I0bbQkbCXxXR",
        "outputId": "68ad4ad5-ce4b-4862-897e-cf7d7a42c5e3"
      },
      "execution_count": null,
      "outputs": [
        {
          "output_type": "execute_result",
          "data": {
            "text/plain": [
              "0"
            ]
          },
          "metadata": {},
          "execution_count": 183
        }
      ]
    },
    {
      "cell_type": "code",
      "source": [
        "#dua tensor ve so nguyen\n",
        "scalar.item()"
      ],
      "metadata": {
        "colab": {
          "base_uri": "https://localhost:8080/"
        },
        "id": "Fw0fBSkdYBtQ",
        "outputId": "2193927d-67fa-42d2-bf8f-bfbb6abda9d8"
      },
      "execution_count": null,
      "outputs": [
        {
          "output_type": "execute_result",
          "data": {
            "text/plain": [
              "7"
            ]
          },
          "metadata": {},
          "execution_count": 184
        }
      ]
    },
    {
      "cell_type": "code",
      "source": [
        "#vecto\n",
        "vc = t.tensor([2, 2])\n",
        "vc"
      ],
      "metadata": {
        "colab": {
          "base_uri": "https://localhost:8080/"
        },
        "id": "_iDCfkG1YKyr",
        "outputId": "ef0ba428-c664-4b16-b952-3194965c795b"
      },
      "execution_count": null,
      "outputs": [
        {
          "output_type": "execute_result",
          "data": {
            "text/plain": [
              "tensor([2, 2])"
            ]
          },
          "metadata": {},
          "execution_count": 185
        }
      ]
    },
    {
      "cell_type": "code",
      "source": [
        "vc.shape"
      ],
      "metadata": {
        "colab": {
          "base_uri": "https://localhost:8080/"
        },
        "id": "lauiuPisY0E0",
        "outputId": "bd125408-9fb0-4570-fbc3-7815cadb762a"
      },
      "execution_count": null,
      "outputs": [
        {
          "output_type": "execute_result",
          "data": {
            "text/plain": [
              "torch.Size([2])"
            ]
          },
          "metadata": {},
          "execution_count": 186
        }
      ]
    },
    {
      "cell_type": "code",
      "source": [
        "vc.ndim"
      ],
      "metadata": {
        "colab": {
          "base_uri": "https://localhost:8080/"
        },
        "id": "obcTcineYd-E",
        "outputId": "44b13f2f-deea-4c43-8f61-3a15b8961cdf"
      },
      "execution_count": null,
      "outputs": [
        {
          "output_type": "execute_result",
          "data": {
            "text/plain": [
              "1"
            ]
          },
          "metadata": {},
          "execution_count": 187
        }
      ]
    },
    {
      "cell_type": "code",
      "source": [
        "#ma tran\n",
        "mt = t.tensor([[4,7],[2,9],[4,7]])"
      ],
      "metadata": {
        "id": "2hRxPxXBY2sw"
      },
      "execution_count": null,
      "outputs": []
    },
    {
      "cell_type": "code",
      "source": [
        "mt"
      ],
      "metadata": {
        "colab": {
          "base_uri": "https://localhost:8080/"
        },
        "id": "sHSD_7ojZPvI",
        "outputId": "078a3ce5-f054-4751-fbd3-f1d4258f905f"
      },
      "execution_count": null,
      "outputs": [
        {
          "output_type": "execute_result",
          "data": {
            "text/plain": [
              "tensor([[4, 7],\n",
              "        [2, 9],\n",
              "        [4, 7]])"
            ]
          },
          "metadata": {},
          "execution_count": 189
        }
      ]
    },
    {
      "cell_type": "code",
      "source": [
        "mt.shape"
      ],
      "metadata": {
        "colab": {
          "base_uri": "https://localhost:8080/"
        },
        "id": "qWHS22R5ZU3y",
        "outputId": "785f5851-1928-431c-94fa-97752a5cf3a5"
      },
      "execution_count": null,
      "outputs": [
        {
          "output_type": "execute_result",
          "data": {
            "text/plain": [
              "torch.Size([3, 2])"
            ]
          },
          "metadata": {},
          "execution_count": 190
        }
      ]
    },
    {
      "cell_type": "code",
      "source": [
        "# TENSOR\n",
        "tensor = t.tensor([[[2,3,5],\n",
        "                    [2,3,5],\n",
        "                    [2,3,5]],\n",
        "                   [[2,3,5],\n",
        "                    [2,3,5],\n",
        "                    [2,3,5]]])\n",
        "tensor"
      ],
      "metadata": {
        "colab": {
          "base_uri": "https://localhost:8080/"
        },
        "id": "hrBGhw3ZaE1q",
        "outputId": "6869df75-bb7b-4344-b0d6-c365398aedf2"
      },
      "execution_count": null,
      "outputs": [
        {
          "output_type": "execute_result",
          "data": {
            "text/plain": [
              "tensor([[[2, 3, 5],\n",
              "         [2, 3, 5],\n",
              "         [2, 3, 5]],\n",
              "\n",
              "        [[2, 3, 5],\n",
              "         [2, 3, 5],\n",
              "         [2, 3, 5]]])"
            ]
          },
          "metadata": {},
          "execution_count": 191
        }
      ]
    },
    {
      "cell_type": "code",
      "source": [
        "tensor.ndim"
      ],
      "metadata": {
        "colab": {
          "base_uri": "https://localhost:8080/"
        },
        "id": "KamezSQZaSPi",
        "outputId": "00945fd2-4844-4f59-f781-79441a33fc02"
      },
      "execution_count": null,
      "outputs": [
        {
          "output_type": "execute_result",
          "data": {
            "text/plain": [
              "3"
            ]
          },
          "metadata": {},
          "execution_count": 192
        }
      ]
    },
    {
      "cell_type": "code",
      "source": [
        "tensor.shape"
      ],
      "metadata": {
        "colab": {
          "base_uri": "https://localhost:8080/"
        },
        "id": "JhmEbp7IaT2w",
        "outputId": "783e1a20-2a97-41fb-b3ee-a715b69dee00"
      },
      "execution_count": null,
      "outputs": [
        {
          "output_type": "execute_result",
          "data": {
            "text/plain": [
              "torch.Size([2, 3, 3])"
            ]
          },
          "metadata": {},
          "execution_count": 193
        }
      ]
    },
    {
      "cell_type": "markdown",
      "source": [
        "##Indexing"
      ],
      "metadata": {
        "id": "FQ63jfYnJ8Ir"
      }
    },
    {
      "cell_type": "markdown",
      "source": [
        "###Cơ bản"
      ],
      "metadata": {
        "id": "uLxpY0e0KWlr"
      }
    },
    {
      "cell_type": "code",
      "source": [
        "import torch\n",
        "x = torch.tensor([[1, 2, 3], [4, 5, 6]])\n",
        "print(x[0, 1])"
      ],
      "metadata": {
        "colab": {
          "base_uri": "https://localhost:8080/"
        },
        "id": "YtIXbFhEJ-ZV",
        "outputId": "f786e8da-4b93-434e-b4ca-f77141ed6af7"
      },
      "execution_count": 1,
      "outputs": [
        {
          "output_type": "stream",
          "name": "stdout",
          "text": [
            "tensor(2)\n"
          ]
        }
      ]
    },
    {
      "cell_type": "code",
      "source": [
        "print(x[0, :])\n",
        "print(x[:, 1])"
      ],
      "metadata": {
        "colab": {
          "base_uri": "https://localhost:8080/"
        },
        "id": "FkCOFSRaKLW8",
        "outputId": "1a50d536-a85a-46c3-c45b-f4be615b0d14"
      },
      "execution_count": 2,
      "outputs": [
        {
          "output_type": "stream",
          "name": "stdout",
          "text": [
            "tensor([1, 2, 3])\n",
            "tensor([2, 5])\n"
          ]
        }
      ]
    },
    {
      "cell_type": "markdown",
      "source": [
        "###Boolean"
      ],
      "metadata": {
        "id": "uC3zbfyfKYot"
      }
    },
    {
      "cell_type": "code",
      "source": [
        "y = torch.tensor([1, 2, 3, 4, 5])\n",
        "mask = y > 3\n",
        "print(mask)\n",
        "print(y[mask])"
      ],
      "metadata": {
        "colab": {
          "base_uri": "https://localhost:8080/"
        },
        "id": "WWIIXjKPKcCN",
        "outputId": "62ecda94-7985-4165-be57-c794977d2303"
      },
      "execution_count": 4,
      "outputs": [
        {
          "output_type": "stream",
          "name": "stdout",
          "text": [
            "tensor([False, False, False,  True,  True])\n",
            "tensor([4, 5])\n"
          ]
        }
      ]
    },
    {
      "cell_type": "markdown",
      "source": [
        "###Slicing"
      ],
      "metadata": {
        "id": "8_5fB1vLK7fY"
      }
    },
    {
      "cell_type": "code",
      "source": [
        "b = torch.tensor([[1, 2, 3], [4, 5, 6], [7, 8, 9]])\n",
        "print(b[1:3, :2])"
      ],
      "metadata": {
        "colab": {
          "base_uri": "https://localhost:8080/"
        },
        "id": "zBiYwjjCLL4B",
        "outputId": "990ea142-d51a-4e56-bef9-0264fd97fa41"
      },
      "execution_count": 6,
      "outputs": [
        {
          "output_type": "stream",
          "name": "stdout",
          "text": [
            "tensor([[4, 5],\n",
            "        [7, 8]])\n"
          ]
        }
      ]
    },
    {
      "cell_type": "markdown",
      "source": [
        "###Gán giá trị"
      ],
      "metadata": {
        "id": "6Fv1FE8hLCSR"
      }
    },
    {
      "cell_type": "code",
      "source": [
        "c = torch.tensor([1, 2, 3, 4])\n",
        "c[1:3] = torch.tensor([10, 20])\n",
        "print(c)"
      ],
      "metadata": {
        "colab": {
          "base_uri": "https://localhost:8080/"
        },
        "id": "ulOdzWa6K8xL",
        "outputId": "474d216e-beee-4136-acc8-2ffe7636caa7"
      },
      "execution_count": 7,
      "outputs": [
        {
          "output_type": "stream",
          "name": "stdout",
          "text": [
            "tensor([ 1, 10, 20,  4])\n"
          ]
        }
      ]
    },
    {
      "cell_type": "markdown",
      "source": [
        "## Random"
      ],
      "metadata": {
        "id": "UMf1NcW8aw7L"
      }
    },
    {
      "cell_type": "markdown",
      "source": [
        "neutral network : cải thiện các số ngẫu nghiên -> dự đoán mong muốn"
      ],
      "metadata": {
        "id": "o8lmHBKFbDt6"
      }
    },
    {
      "cell_type": "code",
      "source": [
        "random_tensor = t.rand(7,7)\n",
        "random_tensor"
      ],
      "metadata": {
        "colab": {
          "base_uri": "https://localhost:8080/"
        },
        "id": "8Fr_ArcpbWy7",
        "outputId": "e521007b-15ec-41d1-be35-27ab85fac2b6"
      },
      "execution_count": null,
      "outputs": [
        {
          "output_type": "execute_result",
          "data": {
            "text/plain": [
              "tensor([[0.3904, 0.6009, 0.2566, 0.7936, 0.9408, 0.1332, 0.9346],\n",
              "        [0.5936, 0.8694, 0.5677, 0.7411, 0.4294, 0.8854, 0.5739],\n",
              "        [0.2666, 0.6274, 0.2696, 0.4414, 0.2969, 0.8317, 0.1053],\n",
              "        [0.2695, 0.3588, 0.1994, 0.5472, 0.0062, 0.9516, 0.0753],\n",
              "        [0.8860, 0.5832, 0.3376, 0.8090, 0.5779, 0.9040, 0.5547],\n",
              "        [0.3423, 0.6343, 0.3644, 0.7104, 0.9464, 0.7890, 0.2814],\n",
              "        [0.7886, 0.5895, 0.7539, 0.1952, 0.0050, 0.3068, 0.1165]])"
            ]
          },
          "metadata": {},
          "execution_count": 194
        }
      ]
    },
    {
      "cell_type": "code",
      "source": [
        "rd_img = t.rand(size=(3,224,224))\n",
        "rd_img.shape, rd_img.ndim"
      ],
      "metadata": {
        "colab": {
          "base_uri": "https://localhost:8080/"
        },
        "id": "q8Hok3LRbjMh",
        "outputId": "8d04be31-c352-42ce-9292-e9215ecd5b56"
      },
      "execution_count": null,
      "outputs": [
        {
          "output_type": "execute_result",
          "data": {
            "text/plain": [
              "(torch.Size([3, 224, 224]), 3)"
            ]
          },
          "metadata": {},
          "execution_count": 195
        }
      ]
    },
    {
      "cell_type": "markdown",
      "source": [
        "## Tensor 0 và 1"
      ],
      "metadata": {
        "id": "hhdWRuz8c2fN"
      }
    },
    {
      "cell_type": "markdown",
      "source": [
        "tương tự\n",
        "\n",
        "t.zeros\n",
        "\n",
        "t.ones"
      ],
      "metadata": {
        "id": "_0-YE_ZHc5vt"
      }
    },
    {
      "cell_type": "markdown",
      "source": [
        "## Trong phạm vi và tương tự 1 tensor khác"
      ],
      "metadata": {
        "id": "_tsJd9wSdM66"
      }
    },
    {
      "cell_type": "code",
      "source": [
        "# t.range() in range\n",
        "x = t.arange(0,100,2)"
      ],
      "metadata": {
        "id": "4wrFxKUUcah5"
      },
      "execution_count": null,
      "outputs": []
    },
    {
      "cell_type": "code",
      "source": [
        "#like t.X_like()\n",
        "ten = t.zeros_like(input=x)\n",
        "ten"
      ],
      "metadata": {
        "colab": {
          "base_uri": "https://localhost:8080/"
        },
        "id": "bLX3M2vcdYZ1",
        "outputId": "1f0960a5-1617-4cfa-e218-41b5e3c7ccc6"
      },
      "execution_count": null,
      "outputs": [
        {
          "output_type": "execute_result",
          "data": {
            "text/plain": [
              "tensor([0, 0, 0, 0, 0, 0, 0, 0, 0, 0, 0, 0, 0, 0, 0, 0, 0, 0, 0, 0, 0, 0, 0, 0,\n",
              "        0, 0, 0, 0, 0, 0, 0, 0, 0, 0, 0, 0, 0, 0, 0, 0, 0, 0, 0, 0, 0, 0, 0, 0,\n",
              "        0, 0])"
            ]
          },
          "metadata": {},
          "execution_count": 197
        }
      ]
    },
    {
      "cell_type": "markdown",
      "source": [
        "## Tensor datatypes\n"
      ],
      "metadata": {
        "id": "m8tnYRRav6OO"
      }
    },
    {
      "cell_type": "code",
      "source": [
        "float_32_tensor = t.tensor([3.0, 9.0, 25.6],\n",
        "                           dtype = t.float16,\n",
        "                           device = None,\n",
        "                           requires_grad=True)\n",
        "float_32_tensor"
      ],
      "metadata": {
        "colab": {
          "base_uri": "https://localhost:8080/"
        },
        "id": "cv3uQMN2v8n8",
        "outputId": "dbcf8b0e-5c07-4112-c7d0-abd0ffa61686"
      },
      "execution_count": null,
      "outputs": [
        {
          "output_type": "execute_result",
          "data": {
            "text/plain": [
              "tensor([ 3.0000,  9.0000, 25.5938], dtype=torch.float16, requires_grad=True)"
            ]
          },
          "metadata": {},
          "execution_count": 198
        }
      ]
    },
    {
      "cell_type": "code",
      "source": [
        "float_32_tensor.dtype"
      ],
      "metadata": {
        "colab": {
          "base_uri": "https://localhost:8080/"
        },
        "id": "UOj3_H1wwMCu",
        "outputId": "f9fbb7a8-5827-465a-d649-c6b675d4c691"
      },
      "execution_count": null,
      "outputs": [
        {
          "output_type": "execute_result",
          "data": {
            "text/plain": [
              "torch.float16"
            ]
          },
          "metadata": {},
          "execution_count": 199
        }
      ]
    },
    {
      "cell_type": "code",
      "source": [
        "float_16_tensor = float_32_tensor.type(t.float16)\n",
        "float_16_tensor"
      ],
      "metadata": {
        "colab": {
          "base_uri": "https://localhost:8080/"
        },
        "id": "t-nXybn8wQQu",
        "outputId": "a66a04c7-550e-4852-d0ce-bcca4b1c661d"
      },
      "execution_count": null,
      "outputs": [
        {
          "output_type": "execute_result",
          "data": {
            "text/plain": [
              "tensor([ 3.0000,  9.0000, 25.5938], dtype=torch.float16, requires_grad=True)"
            ]
          },
          "metadata": {},
          "execution_count": 200
        }
      ]
    },
    {
      "cell_type": "code",
      "source": [
        "tensor = t.rand(3,4)"
      ],
      "metadata": {
        "id": "8TyUbjQe0EN_"
      },
      "execution_count": null,
      "outputs": []
    },
    {
      "cell_type": "code",
      "source": [
        "print(tensor)\n",
        "print(f\"tensor datatype: {tensor.dtype}\")\n",
        "print(f\"tensor shape: {tensor.shape}\")\n",
        "print(f\"tensor device: {tensor.device}\")"
      ],
      "metadata": {
        "colab": {
          "base_uri": "https://localhost:8080/"
        },
        "id": "zgGKLddHyuH8",
        "outputId": "083bed43-c9da-4087-d35a-5e1e2c7e60f5"
      },
      "execution_count": null,
      "outputs": [
        {
          "output_type": "stream",
          "name": "stdout",
          "text": [
            "tensor([[0.3362, 0.7891, 0.1694, 0.1800],\n",
            "        [0.7177, 0.6988, 0.5510, 0.2485],\n",
            "        [0.8518, 0.0963, 0.1338, 0.2741]])\n",
            "tensor datatype: torch.float32\n",
            "tensor shape: torch.Size([3, 4])\n",
            "tensor device: cpu\n"
          ]
        }
      ]
    },
    {
      "cell_type": "markdown",
      "source": [
        "#model dau tien"
      ],
      "metadata": {
        "id": "At0m-q9DyBMH"
      }
    },
    {
      "cell_type": "markdown",
      "source": [
        "## bước 1 xử lí dữ liệu"
      ],
      "metadata": {
        "id": "c5UW854eoyFh"
      }
    },
    {
      "cell_type": "markdown",
      "source": [
        "Biến dữ liệu thành các dạng biểu diễn số đa chiều.\n",
        "\n",
        "Chia dữ liệu thành training set và test set để kiểm tra mô hình."
      ],
      "metadata": {
        "id": "SyGA6m47GrGL"
      }
    },
    {
      "cell_type": "code",
      "source": [
        "# chọn weight và bias tùy ý\n",
        "weight = 0.4\n",
        "bias = 0.4\n",
        "\n",
        "#tạo tập data\n",
        "start = 0\n",
        "end = 1\n",
        "step = 0.02\n",
        "X = t.arange(start, end, step).unsqueeze(dim=1)\n",
        "Y = weight * X + bias\n",
        "\n",
        "X[:10], Y[:10], len(X), len(Y)"
      ],
      "metadata": {
        "colab": {
          "base_uri": "https://localhost:8080/"
        },
        "id": "EyfqJUOJPdZC",
        "outputId": "217e36ed-4b06-4c12-96dd-fde153e610f5"
      },
      "execution_count": null,
      "outputs": [
        {
          "output_type": "execute_result",
          "data": {
            "text/plain": [
              "(tensor([[0.0000],\n",
              "         [0.0200],\n",
              "         [0.0400],\n",
              "         [0.0600],\n",
              "         [0.0800],\n",
              "         [0.1000],\n",
              "         [0.1200],\n",
              "         [0.1400],\n",
              "         [0.1600],\n",
              "         [0.1800]]),\n",
              " tensor([[0.4000],\n",
              "         [0.4080],\n",
              "         [0.4160],\n",
              "         [0.4240],\n",
              "         [0.4320],\n",
              "         [0.4400],\n",
              "         [0.4480],\n",
              "         [0.4560],\n",
              "         [0.4640],\n",
              "         [0.4720]]),\n",
              " 50,\n",
              " 50)"
            ]
          },
          "metadata": {},
          "execution_count": 5
        }
      ]
    },
    {
      "cell_type": "code",
      "source": [
        "#chia data thành tập train và test\n",
        "train_slip = int(0.8*len(X))\n",
        "X_train, Y_train = X[:train_slip], Y[:train_slip]\n",
        "X_test, Y_test = X[train_slip:], Y[train_slip:]\n"
      ],
      "metadata": {
        "id": "xWj8DwEcP4ED"
      },
      "execution_count": null,
      "outputs": []
    },
    {
      "cell_type": "code",
      "source": [
        "#hàm tạo biểu đồ dữ liệu để quan sát\n",
        "def plot_predictions(train_data=X_train,\n",
        "                     train_labels=Y_train,\n",
        "                     test_data=X_test,\n",
        "                     test_labels=Y_test,\n",
        "                     predictions=None):\n",
        "  \"\"\"\n",
        "  Plots training data, test data and compares predictions.\n",
        "  \"\"\"\n",
        "  plt.figure(figsize=(10, 7))\n",
        "\n",
        "  plt.scatter(train_data, train_labels, c=\"g\", s=7, label=\"Trainning\")\n",
        "  plt.scatter(test_data, test_labels, c=\"r\", s=7, label=\"Testing\")\n",
        "\n",
        "  if predictions is not None:\n",
        "    plt.scatter(test_data, predictions, c=\"black\", s=7, label=\"Predictions\")\n",
        "\n",
        "  plt.legend(prop={\"size\": 14})"
      ],
      "metadata": {
        "id": "69I6zLW4QjyL"
      },
      "execution_count": null,
      "outputs": []
    },
    {
      "cell_type": "markdown",
      "source": [
        "## bước 2 tạo model và train"
      ],
      "metadata": {
        "id": "ANsDVshapYcP"
      }
    },
    {
      "cell_type": "code",
      "source": [
        "#tạo một model\n",
        "import torch.nn as nn\n",
        "#Tạo class Linear Regression dựa trên nn.Module\n",
        "class Linear(nn.Module):\n",
        "  def __init__(self):\n",
        "    super().__init__()\n",
        "    # Khởi tạo ngẫu nhiên trọng số (weights) và bias.\n",
        "    self.weights = nn.Parameter(t.randn(1,\n",
        "                                            requires_grad=True,\n",
        "                                            dtype=t.float))\n",
        "    self.bias = nn.Parameter(t.randn(1,\n",
        "                                         requires_grad=True,\n",
        "                                         dtype=t.float))\n",
        "  def forward(self, x: t.Tensor) -> t.Tensor:\n",
        "    return self.weights * x + self.bias"
      ],
      "metadata": {
        "id": "G0GDmaSiRxLx"
      },
      "execution_count": null,
      "outputs": []
    },
    {
      "cell_type": "code",
      "source": [
        "#tạo model 0 là Linear và lấy seed random là 42\n",
        "t.manual_seed(42)\n",
        "\n",
        "model0 = Linear()"
      ],
      "metadata": {
        "id": "VnFpqEZkflDi"
      },
      "execution_count": null,
      "outputs": []
    },
    {
      "cell_type": "code",
      "source": [
        "#w và b của mô hình\n",
        "model0.state_dict()"
      ],
      "metadata": {
        "colab": {
          "base_uri": "https://localhost:8080/"
        },
        "id": "4Qmz4xNifrXQ",
        "outputId": "d3fca995-c5b1-411a-8fd5-651e83a63979"
      },
      "execution_count": null,
      "outputs": [
        {
          "output_type": "execute_result",
          "data": {
            "text/plain": [
              "OrderedDict([('weights', tensor([0.3367])), ('bias', tensor([0.1288]))])"
            ]
          },
          "metadata": {},
          "execution_count": 13
        }
      ]
    },
    {
      "cell_type": "code",
      "source": [
        "#Dự báo giá trị đầu ra từ dữ liệu huấn luyện.\n",
        "with t.inference_mode():\n",
        "    y_preds = model0(X_test)"
      ],
      "metadata": {
        "id": "MkxdCsTXmX-p"
      },
      "execution_count": null,
      "outputs": []
    },
    {
      "cell_type": "code",
      "source": [
        "plot_predictions(predictions=y_preds)"
      ],
      "metadata": {
        "colab": {
          "base_uri": "https://localhost:8080/",
          "height": 599
        },
        "id": "kygsmQOeRlcR",
        "outputId": "2fea12eb-f6c0-4d59-c270-011d22e97e52"
      },
      "execution_count": null,
      "outputs": [
        {
          "output_type": "display_data",
          "data": {
            "text/plain": [
              "<Figure size 1000x700 with 1 Axes>"
            ],
            "image/png": "[encoded data removed]"
          },
          "metadata": {}
        }
      ]
    },
    {
      "cell_type": "code",
      "source": [
        "#hàm loss\n",
        "lostfc = nn.L1Loss()\n",
        "#L1Loss: MAE (đo lường khoảng cách giữa pred và label mẫu khoảng cách -> 0->mô hình càng đúng)\n",
        "op = t.optim.SGD(params=model0.parameters(),\n",
        "                 lr = 0.00000001)\n",
        "#đại diện cho tốc độ học (tốc độ thay đổi w và bias)\n",
        "\n",
        "model0.state_dict()"
      ],
      "metadata": {
        "colab": {
          "base_uri": "https://localhost:8080/"
        },
        "id": "lT2Hl9R0mg-H",
        "outputId": "3df26714-484b-4d03-866f-73fcea3af9f9"
      },
      "execution_count": null,
      "outputs": [
        {
          "output_type": "execute_result",
          "data": {
            "text/plain": [
              "OrderedDict([('weights', tensor([0.4000])), ('bias', tensor([0.4000]))])"
            ]
          },
          "metadata": {},
          "execution_count": 63
        }
      ]
    },
    {
      "cell_type": "code",
      "source": [
        "list(model0.parameters())"
      ],
      "metadata": {
        "id": "xi36bQQwuWAN",
        "colab": {
          "base_uri": "https://localhost:8080/"
        },
        "outputId": "65c0c5ec-a935-4ffc-e1d6-fc4758fd1e2c"
      },
      "execution_count": null,
      "outputs": [
        {
          "output_type": "execute_result",
          "data": {
            "text/plain": [
              "[Parameter containing:\n",
              " tensor([0.4000], requires_grad=True),\n",
              " Parameter containing:\n",
              " tensor([0.4000], requires_grad=True)]"
            ]
          },
          "metadata": {},
          "execution_count": 46
        }
      ]
    },
    {
      "cell_type": "markdown",
      "source": [
        "## trainning"
      ],
      "metadata": {
        "id": "PgAFOQ84lujt"
      }
    },
    {
      "cell_type": "code",
      "source": [
        "#epoch: số bước lặp\n",
        "epochs = 1000\n",
        "\n",
        "epoch_count = []\n",
        "train_loss_list = []\n",
        "test_loss_list = []\n",
        "for epoch in range(epochs):\n",
        "  model0.train()\n",
        "\n",
        "  y_pred = model0(X_train)\n",
        "\n",
        "  loss = lostfc(y_pred, Y_train)\n",
        "\n",
        "  op.zero_grad()\n",
        "\n",
        "  loss.backward()\n",
        "\n",
        "  op.step()\n",
        "\n",
        "  model0.eval()\n",
        "\n",
        "  with t.inference_mode():\n",
        "    test_pred = model0(X_test)\n",
        "    test_loss = lostfc(test_pred, Y_test.type(t.float))\n",
        "    #in ra loss trong từng epoch để quan sát xu hướng\n",
        "    if epoch % 1 == 0:\n",
        "            epoch_count.append(epoch)\n",
        "            train_loss_list.append(loss.detach().numpy())\n",
        "            test_loss_list.append(test_loss.detach().numpy())\n",
        "            print(f\"Epoch: {epoch} | MAE Train Loss: {loss} | MAE Test Loss: {test_loss} \")"
      ],
      "metadata": {
        "id": "tOHptJHujh-Y",
        "colab": {
          "base_uri": "https://localhost:8080/"
        },
        "outputId": "c0fa3d1b-e4de-44e6-91ef-a79169668dc6"
      },
      "execution_count": null,
      "outputs": [
        {
          "output_type": "stream",
          "name": "stdout",
          "text": [
            "Epoch: 0 | MAE Train Loss: 4.515051728049002e-07 | MAE Test Loss: 7.748603536583687e-08 \n",
            "Epoch: 1 | MAE Train Loss: 4.515051728049002e-07 | MAE Test Loss: 7.748603536583687e-08 \n",
            "Epoch: 2 | MAE Train Loss: 4.515051728049002e-07 | MAE Test Loss: 7.748603536583687e-08 \n",
            "Epoch: 3 | MAE Train Loss: 4.515051728049002e-07 | MAE Test Loss: 7.748603536583687e-08 \n",
            "Epoch: 4 | MAE Train Loss: 4.515051728049002e-07 | MAE Test Loss: 7.748603536583687e-08 \n",
            "Epoch: 5 | MAE Train Loss: 4.515051728049002e-07 | MAE Test Loss: 7.748603536583687e-08 \n",
            "Epoch: 6 | MAE Train Loss: 4.515051728049002e-07 | MAE Test Loss: 7.748603536583687e-08 \n",
            "Epoch: 7 | MAE Train Loss: 4.515051728049002e-07 | MAE Test Loss: 7.748603536583687e-08 \n",
            "Epoch: 8 | MAE Train Loss: 4.515051728049002e-07 | MAE Test Loss: 7.748603536583687e-08 \n",
            "Epoch: 9 | MAE Train Loss: 4.515051728049002e-07 | MAE Test Loss: 7.748603536583687e-08 \n",
            "Epoch: 10 | MAE Train Loss: 4.515051728049002e-07 | MAE Test Loss: 7.748603536583687e-08 \n",
            "Epoch: 11 | MAE Train Loss: 4.515051728049002e-07 | MAE Test Loss: 7.748603536583687e-08 \n",
            "Epoch: 12 | MAE Train Loss: 4.515051728049002e-07 | MAE Test Loss: 7.748603536583687e-08 \n",
            "Epoch: 13 | MAE Train Loss: 4.515051728049002e-07 | MAE Test Loss: 7.748603536583687e-08 \n",
            "Epoch: 14 | MAE Train Loss: 4.515051728049002e-07 | MAE Test Loss: 7.748603536583687e-08 \n",
            "Epoch: 15 | MAE Train Loss: 4.515051728049002e-07 | MAE Test Loss: 7.748603536583687e-08 \n",
            "Epoch: 16 | MAE Train Loss: 4.515051728049002e-07 | MAE Test Loss: 7.748603536583687e-08 \n",
            "Epoch: 17 | MAE Train Loss: 4.515051728049002e-07 | MAE Test Loss: 7.748603536583687e-08 \n",
            "Epoch: 18 | MAE Train Loss: 4.515051728049002e-07 | MAE Test Loss: 7.748603536583687e-08 \n",
            "Epoch: 19 | MAE Train Loss: 4.515051728049002e-07 | MAE Test Loss: 7.748603536583687e-08 \n",
            "Epoch: 20 | MAE Train Loss: 4.515051728049002e-07 | MAE Test Loss: 7.748603536583687e-08 \n",
            "Epoch: 21 | MAE Train Loss: 4.515051728049002e-07 | MAE Test Loss: 7.748603536583687e-08 \n",
            "Epoch: 22 | MAE Train Loss: 4.515051728049002e-07 | MAE Test Loss: 7.748603536583687e-08 \n",
            "Epoch: 23 | MAE Train Loss: 4.515051728049002e-07 | MAE Test Loss: 7.748603536583687e-08 \n",
            "Epoch: 24 | MAE Train Loss: 4.515051728049002e-07 | MAE Test Loss: 7.748603536583687e-08 \n",
            "Epoch: 25 | MAE Train Loss: 4.515051728049002e-07 | MAE Test Loss: 7.748603536583687e-08 \n",
            "Epoch: 26 | MAE Train Loss: 4.515051728049002e-07 | MAE Test Loss: 7.748603536583687e-08 \n",
            "Epoch: 27 | MAE Train Loss: 4.515051728049002e-07 | MAE Test Loss: 7.748603536583687e-08 \n",
            "Epoch: 28 | MAE Train Loss: 4.515051728049002e-07 | MAE Test Loss: 7.748603536583687e-08 \n",
            "Epoch: 29 | MAE Train Loss: 4.515051728049002e-07 | MAE Test Loss: 7.748603536583687e-08 \n",
            "Epoch: 30 | MAE Train Loss: 4.515051728049002e-07 | MAE Test Loss: 7.748603536583687e-08 \n",
            "Epoch: 31 | MAE Train Loss: 4.515051728049002e-07 | MAE Test Loss: 7.748603536583687e-08 \n",
            "Epoch: 32 | MAE Train Loss: 4.515051728049002e-07 | MAE Test Loss: 7.748603536583687e-08 \n",
            "Epoch: 33 | MAE Train Loss: 4.515051728049002e-07 | MAE Test Loss: 7.748603536583687e-08 \n",
            "Epoch: 34 | MAE Train Loss: 4.515051728049002e-07 | MAE Test Loss: 7.748603536583687e-08 \n",
            "Epoch: 35 | MAE Train Loss: 4.515051728049002e-07 | MAE Test Loss: 7.748603536583687e-08 \n",
            "Epoch: 36 | MAE Train Loss: 4.515051728049002e-07 | MAE Test Loss: 7.748603536583687e-08 \n",
            "Epoch: 37 | MAE Train Loss: 4.515051728049002e-07 | MAE Test Loss: 7.748603536583687e-08 \n",
            "Epoch: 38 | MAE Train Loss: 4.515051728049002e-07 | MAE Test Loss: 7.748603536583687e-08 \n",
            "Epoch: 39 | MAE Train Loss: 4.515051728049002e-07 | MAE Test Loss: 7.748603536583687e-08 \n",
            "Epoch: 40 | MAE Train Loss: 4.515051728049002e-07 | MAE Test Loss: 7.748603536583687e-08 \n",
            "Epoch: 41 | MAE Train Loss: 4.515051728049002e-07 | MAE Test Loss: 7.748603536583687e-08 \n",
            "Epoch: 42 | MAE Train Loss: 4.515051728049002e-07 | MAE Test Loss: 7.748603536583687e-08 \n",
            "Epoch: 43 | MAE Train Loss: 4.515051728049002e-07 | MAE Test Loss: 7.748603536583687e-08 \n",
            "Epoch: 44 | MAE Train Loss: 4.515051728049002e-07 | MAE Test Loss: 7.748603536583687e-08 \n",
            "Epoch: 45 | MAE Train Loss: 4.515051728049002e-07 | MAE Test Loss: 7.748603536583687e-08 \n",
            "Epoch: 46 | MAE Train Loss: 4.515051728049002e-07 | MAE Test Loss: 7.748603536583687e-08 \n",
            "Epoch: 47 | MAE Train Loss: 4.515051728049002e-07 | MAE Test Loss: 7.748603536583687e-08 \n",
            "Epoch: 48 | MAE Train Loss: 4.515051728049002e-07 | MAE Test Loss: 7.748603536583687e-08 \n",
            "Epoch: 49 | MAE Train Loss: 4.515051728049002e-07 | MAE Test Loss: 7.748603536583687e-08 \n",
            "Epoch: 50 | MAE Train Loss: 4.515051728049002e-07 | MAE Test Loss: 7.748603536583687e-08 \n",
            "Epoch: 51 | MAE Train Loss: 4.515051728049002e-07 | MAE Test Loss: 7.748603536583687e-08 \n",
            "Epoch: 52 | MAE Train Loss: 4.515051728049002e-07 | MAE Test Loss: 7.748603536583687e-08 \n",
            "Epoch: 53 | MAE Train Loss: 4.515051728049002e-07 | MAE Test Loss: 7.748603536583687e-08 \n",
            "Epoch: 54 | MAE Train Loss: 4.515051728049002e-07 | MAE Test Loss: 7.748603536583687e-08 \n",
            "Epoch: 55 | MAE Train Loss: 4.515051728049002e-07 | MAE Test Loss: 7.748603536583687e-08 \n",
            "Epoch: 56 | MAE Train Loss: 4.515051728049002e-07 | MAE Test Loss: 7.748603536583687e-08 \n",
            "Epoch: 57 | MAE Train Loss: 4.515051728049002e-07 | MAE Test Loss: 7.748603536583687e-08 \n",
            "Epoch: 58 | MAE Train Loss: 4.515051728049002e-07 | MAE Test Loss: 7.748603536583687e-08 \n",
            "Epoch: 59 | MAE Train Loss: 4.515051728049002e-07 | MAE Test Loss: 7.748603536583687e-08 \n",
            "Epoch: 60 | MAE Train Loss: 4.515051728049002e-07 | MAE Test Loss: 7.748603536583687e-08 \n",
            "Epoch: 61 | MAE Train Loss: 4.515051728049002e-07 | MAE Test Loss: 7.748603536583687e-08 \n",
            "Epoch: 62 | MAE Train Loss: 4.515051728049002e-07 | MAE Test Loss: 7.748603536583687e-08 \n",
            "Epoch: 63 | MAE Train Loss: 4.515051728049002e-07 | MAE Test Loss: 7.748603536583687e-08 \n",
            "Epoch: 64 | MAE Train Loss: 4.515051728049002e-07 | MAE Test Loss: 7.748603536583687e-08 \n",
            "Epoch: 65 | MAE Train Loss: 4.515051728049002e-07 | MAE Test Loss: 7.748603536583687e-08 \n",
            "Epoch: 66 | MAE Train Loss: 4.515051728049002e-07 | MAE Test Loss: 7.748603536583687e-08 \n",
            "Epoch: 67 | MAE Train Loss: 4.515051728049002e-07 | MAE Test Loss: 7.748603536583687e-08 \n",
            "Epoch: 68 | MAE Train Loss: 4.515051728049002e-07 | MAE Test Loss: 7.748603536583687e-08 \n",
            "Epoch: 69 | MAE Train Loss: 4.515051728049002e-07 | MAE Test Loss: 7.748603536583687e-08 \n",
            "Epoch: 70 | MAE Train Loss: 4.515051728049002e-07 | MAE Test Loss: 7.748603536583687e-08 \n",
            "Epoch: 71 | MAE Train Loss: 4.515051728049002e-07 | MAE Test Loss: 7.748603536583687e-08 \n",
            "Epoch: 72 | MAE Train Loss: 4.515051728049002e-07 | MAE Test Loss: 7.748603536583687e-08 \n",
            "Epoch: 73 | MAE Train Loss: 4.515051728049002e-07 | MAE Test Loss: 7.748603536583687e-08 \n",
            "Epoch: 74 | MAE Train Loss: 4.515051728049002e-07 | MAE Test Loss: 7.748603536583687e-08 \n",
            "Epoch: 75 | MAE Train Loss: 4.515051728049002e-07 | MAE Test Loss: 7.748603536583687e-08 \n",
            "Epoch: 76 | MAE Train Loss: 4.515051728049002e-07 | MAE Test Loss: 7.748603536583687e-08 \n",
            "Epoch: 77 | MAE Train Loss: 4.515051728049002e-07 | MAE Test Loss: 7.748603536583687e-08 \n",
            "Epoch: 78 | MAE Train Loss: 4.515051728049002e-07 | MAE Test Loss: 7.748603536583687e-08 \n",
            "Epoch: 79 | MAE Train Loss: 4.515051728049002e-07 | MAE Test Loss: 7.748603536583687e-08 \n",
            "Epoch: 80 | MAE Train Loss: 4.515051728049002e-07 | MAE Test Loss: 7.748603536583687e-08 \n",
            "Epoch: 81 | MAE Train Loss: 4.515051728049002e-07 | MAE Test Loss: 7.748603536583687e-08 \n",
            "Epoch: 82 | MAE Train Loss: 4.515051728049002e-07 | MAE Test Loss: 7.748603536583687e-08 \n",
            "Epoch: 83 | MAE Train Loss: 4.515051728049002e-07 | MAE Test Loss: 7.748603536583687e-08 \n",
            "Epoch: 84 | MAE Train Loss: 4.515051728049002e-07 | MAE Test Loss: 7.748603536583687e-08 \n",
            "Epoch: 85 | MAE Train Loss: 4.515051728049002e-07 | MAE Test Loss: 7.748603536583687e-08 \n",
            "Epoch: 86 | MAE Train Loss: 4.515051728049002e-07 | MAE Test Loss: 7.748603536583687e-08 \n",
            "Epoch: 87 | MAE Train Loss: 4.515051728049002e-07 | MAE Test Loss: 7.748603536583687e-08 \n",
            "Epoch: 88 | MAE Train Loss: 4.515051728049002e-07 | MAE Test Loss: 7.748603536583687e-08 \n",
            "Epoch: 89 | MAE Train Loss: 4.515051728049002e-07 | MAE Test Loss: 7.748603536583687e-08 \n",
            "Epoch: 90 | MAE Train Loss: 4.515051728049002e-07 | MAE Test Loss: 7.748603536583687e-08 \n",
            "Epoch: 91 | MAE Train Loss: 4.515051728049002e-07 | MAE Test Loss: 7.748603536583687e-08 \n",
            "Epoch: 92 | MAE Train Loss: 4.515051728049002e-07 | MAE Test Loss: 7.748603536583687e-08 \n",
            "Epoch: 93 | MAE Train Loss: 4.515051728049002e-07 | MAE Test Loss: 7.748603536583687e-08 \n",
            "Epoch: 94 | MAE Train Loss: 4.515051728049002e-07 | MAE Test Loss: 7.748603536583687e-08 \n",
            "Epoch: 95 | MAE Train Loss: 4.515051728049002e-07 | MAE Test Loss: 7.748603536583687e-08 \n",
            "Epoch: 96 | MAE Train Loss: 4.515051728049002e-07 | MAE Test Loss: 7.748603536583687e-08 \n",
            "Epoch: 97 | MAE Train Loss: 4.515051728049002e-07 | MAE Test Loss: 7.748603536583687e-08 \n",
            "Epoch: 98 | MAE Train Loss: 4.515051728049002e-07 | MAE Test Loss: 7.748603536583687e-08 \n",
            "Epoch: 99 | MAE Train Loss: 4.515051728049002e-07 | MAE Test Loss: 7.748603536583687e-08 \n",
            "Epoch: 100 | MAE Train Loss: 4.515051728049002e-07 | MAE Test Loss: 7.748603536583687e-08 \n",
            "Epoch: 101 | MAE Train Loss: 4.515051728049002e-07 | MAE Test Loss: 7.748603536583687e-08 \n",
            "Epoch: 102 | MAE Train Loss: 4.515051728049002e-07 | MAE Test Loss: 7.748603536583687e-08 \n",
            "Epoch: 103 | MAE Train Loss: 4.515051728049002e-07 | MAE Test Loss: 7.748603536583687e-08 \n",
            "Epoch: 104 | MAE Train Loss: 4.515051728049002e-07 | MAE Test Loss: 7.748603536583687e-08 \n",
            "Epoch: 105 | MAE Train Loss: 4.515051728049002e-07 | MAE Test Loss: 7.748603536583687e-08 \n",
            "Epoch: 106 | MAE Train Loss: 4.515051728049002e-07 | MAE Test Loss: 7.748603536583687e-08 \n",
            "Epoch: 107 | MAE Train Loss: 4.515051728049002e-07 | MAE Test Loss: 7.748603536583687e-08 \n",
            "Epoch: 108 | MAE Train Loss: 4.515051728049002e-07 | MAE Test Loss: 7.748603536583687e-08 \n",
            "Epoch: 109 | MAE Train Loss: 4.515051728049002e-07 | MAE Test Loss: 7.748603536583687e-08 \n",
            "Epoch: 110 | MAE Train Loss: 4.515051728049002e-07 | MAE Test Loss: 7.748603536583687e-08 \n",
            "Epoch: 111 | MAE Train Loss: 4.515051728049002e-07 | MAE Test Loss: 7.748603536583687e-08 \n",
            "Epoch: 112 | MAE Train Loss: 4.515051728049002e-07 | MAE Test Loss: 7.748603536583687e-08 \n",
            "Epoch: 113 | MAE Train Loss: 4.515051728049002e-07 | MAE Test Loss: 7.748603536583687e-08 \n",
            "Epoch: 114 | MAE Train Loss: 4.515051728049002e-07 | MAE Test Loss: 7.748603536583687e-08 \n",
            "Epoch: 115 | MAE Train Loss: 4.515051728049002e-07 | MAE Test Loss: 7.748603536583687e-08 \n",
            "Epoch: 116 | MAE Train Loss: 4.515051728049002e-07 | MAE Test Loss: 7.748603536583687e-08 \n",
            "Epoch: 117 | MAE Train Loss: 4.515051728049002e-07 | MAE Test Loss: 7.748603536583687e-08 \n",
            "Epoch: 118 | MAE Train Loss: 4.515051728049002e-07 | MAE Test Loss: 7.748603536583687e-08 \n",
            "Epoch: 119 | MAE Train Loss: 4.515051728049002e-07 | MAE Test Loss: 7.748603536583687e-08 \n",
            "Epoch: 120 | MAE Train Loss: 4.515051728049002e-07 | MAE Test Loss: 7.748603536583687e-08 \n",
            "Epoch: 121 | MAE Train Loss: 4.515051728049002e-07 | MAE Test Loss: 7.748603536583687e-08 \n",
            "Epoch: 122 | MAE Train Loss: 4.515051728049002e-07 | MAE Test Loss: 7.748603536583687e-08 \n",
            "Epoch: 123 | MAE Train Loss: 4.515051728049002e-07 | MAE Test Loss: 7.748603536583687e-08 \n",
            "Epoch: 124 | MAE Train Loss: 4.515051728049002e-07 | MAE Test Loss: 7.748603536583687e-08 \n",
            "Epoch: 125 | MAE Train Loss: 4.515051728049002e-07 | MAE Test Loss: 7.748603536583687e-08 \n",
            "Epoch: 126 | MAE Train Loss: 4.515051728049002e-07 | MAE Test Loss: 7.748603536583687e-08 \n",
            "Epoch: 127 | MAE Train Loss: 4.515051728049002e-07 | MAE Test Loss: 7.748603536583687e-08 \n",
            "Epoch: 128 | MAE Train Loss: 4.515051728049002e-07 | MAE Test Loss: 7.748603536583687e-08 \n",
            "Epoch: 129 | MAE Train Loss: 4.515051728049002e-07 | MAE Test Loss: 7.748603536583687e-08 \n",
            "Epoch: 130 | MAE Train Loss: 4.515051728049002e-07 | MAE Test Loss: 7.748603536583687e-08 \n",
            "Epoch: 131 | MAE Train Loss: 4.515051728049002e-07 | MAE Test Loss: 7.748603536583687e-08 \n",
            "Epoch: 132 | MAE Train Loss: 4.515051728049002e-07 | MAE Test Loss: 7.748603536583687e-08 \n",
            "Epoch: 133 | MAE Train Loss: 4.515051728049002e-07 | MAE Test Loss: 7.748603536583687e-08 \n",
            "Epoch: 134 | MAE Train Loss: 4.515051728049002e-07 | MAE Test Loss: 7.748603536583687e-08 \n",
            "Epoch: 135 | MAE Train Loss: 4.515051728049002e-07 | MAE Test Loss: 7.748603536583687e-08 \n",
            "Epoch: 136 | MAE Train Loss: 4.515051728049002e-07 | MAE Test Loss: 7.748603536583687e-08 \n",
            "Epoch: 137 | MAE Train Loss: 4.515051728049002e-07 | MAE Test Loss: 7.748603536583687e-08 \n",
            "Epoch: 138 | MAE Train Loss: 4.515051728049002e-07 | MAE Test Loss: 7.748603536583687e-08 \n",
            "Epoch: 139 | MAE Train Loss: 4.515051728049002e-07 | MAE Test Loss: 7.748603536583687e-08 \n",
            "Epoch: 140 | MAE Train Loss: 4.515051728049002e-07 | MAE Test Loss: 7.748603536583687e-08 \n",
            "Epoch: 141 | MAE Train Loss: 4.515051728049002e-07 | MAE Test Loss: 7.748603536583687e-08 \n",
            "Epoch: 142 | MAE Train Loss: 4.515051728049002e-07 | MAE Test Loss: 7.748603536583687e-08 \n",
            "Epoch: 143 | MAE Train Loss: 4.515051728049002e-07 | MAE Test Loss: 7.748603536583687e-08 \n",
            "Epoch: 144 | MAE Train Loss: 4.515051728049002e-07 | MAE Test Loss: 7.748603536583687e-08 \n",
            "Epoch: 145 | MAE Train Loss: 4.515051728049002e-07 | MAE Test Loss: 7.748603536583687e-08 \n",
            "Epoch: 146 | MAE Train Loss: 4.515051728049002e-07 | MAE Test Loss: 7.748603536583687e-08 \n",
            "Epoch: 147 | MAE Train Loss: 4.515051728049002e-07 | MAE Test Loss: 7.748603536583687e-08 \n",
            "Epoch: 148 | MAE Train Loss: 4.515051728049002e-07 | MAE Test Loss: 7.748603536583687e-08 \n",
            "Epoch: 149 | MAE Train Loss: 4.515051728049002e-07 | MAE Test Loss: 7.748603536583687e-08 \n",
            "Epoch: 150 | MAE Train Loss: 4.515051728049002e-07 | MAE Test Loss: 7.748603536583687e-08 \n",
            "Epoch: 151 | MAE Train Loss: 4.515051728049002e-07 | MAE Test Loss: 7.748603536583687e-08 \n",
            "Epoch: 152 | MAE Train Loss: 4.515051728049002e-07 | MAE Test Loss: 7.748603536583687e-08 \n",
            "Epoch: 153 | MAE Train Loss: 4.515051728049002e-07 | MAE Test Loss: 7.748603536583687e-08 \n",
            "Epoch: 154 | MAE Train Loss: 4.515051728049002e-07 | MAE Test Loss: 7.748603536583687e-08 \n",
            "Epoch: 155 | MAE Train Loss: 4.515051728049002e-07 | MAE Test Loss: 7.748603536583687e-08 \n",
            "Epoch: 156 | MAE Train Loss: 4.515051728049002e-07 | MAE Test Loss: 7.748603536583687e-08 \n",
            "Epoch: 157 | MAE Train Loss: 4.515051728049002e-07 | MAE Test Loss: 7.748603536583687e-08 \n",
            "Epoch: 158 | MAE Train Loss: 4.515051728049002e-07 | MAE Test Loss: 7.748603536583687e-08 \n",
            "Epoch: 159 | MAE Train Loss: 4.515051728049002e-07 | MAE Test Loss: 7.748603536583687e-08 \n",
            "Epoch: 160 | MAE Train Loss: 4.515051728049002e-07 | MAE Test Loss: 7.748603536583687e-08 \n",
            "Epoch: 161 | MAE Train Loss: 4.515051728049002e-07 | MAE Test Loss: 7.748603536583687e-08 \n",
            "Epoch: 162 | MAE Train Loss: 4.515051728049002e-07 | MAE Test Loss: 7.748603536583687e-08 \n",
            "Epoch: 163 | MAE Train Loss: 4.515051728049002e-07 | MAE Test Loss: 7.748603536583687e-08 \n",
            "Epoch: 164 | MAE Train Loss: 4.515051728049002e-07 | MAE Test Loss: 7.748603536583687e-08 \n",
            "Epoch: 165 | MAE Train Loss: 4.515051728049002e-07 | MAE Test Loss: 7.748603536583687e-08 \n",
            "Epoch: 166 | MAE Train Loss: 4.515051728049002e-07 | MAE Test Loss: 7.748603536583687e-08 \n",
            "Epoch: 167 | MAE Train Loss: 4.515051728049002e-07 | MAE Test Loss: 7.748603536583687e-08 \n",
            "Epoch: 168 | MAE Train Loss: 4.515051728049002e-07 | MAE Test Loss: 7.748603536583687e-08 \n",
            "Epoch: 169 | MAE Train Loss: 4.515051728049002e-07 | MAE Test Loss: 7.748603536583687e-08 \n",
            "Epoch: 170 | MAE Train Loss: 4.515051728049002e-07 | MAE Test Loss: 7.748603536583687e-08 \n",
            "Epoch: 171 | MAE Train Loss: 4.515051728049002e-07 | MAE Test Loss: 7.748603536583687e-08 \n",
            "Epoch: 172 | MAE Train Loss: 4.515051728049002e-07 | MAE Test Loss: 7.748603536583687e-08 \n",
            "Epoch: 173 | MAE Train Loss: 4.515051728049002e-07 | MAE Test Loss: 7.748603536583687e-08 \n",
            "Epoch: 174 | MAE Train Loss: 4.515051728049002e-07 | MAE Test Loss: 7.748603536583687e-08 \n",
            "Epoch: 175 | MAE Train Loss: 4.515051728049002e-07 | MAE Test Loss: 7.748603536583687e-08 \n",
            "Epoch: 176 | MAE Train Loss: 4.515051728049002e-07 | MAE Test Loss: 7.748603536583687e-08 \n",
            "Epoch: 177 | MAE Train Loss: 4.515051728049002e-07 | MAE Test Loss: 7.748603536583687e-08 \n",
            "Epoch: 178 | MAE Train Loss: 4.515051728049002e-07 | MAE Test Loss: 7.748603536583687e-08 \n",
            "Epoch: 179 | MAE Train Loss: 4.515051728049002e-07 | MAE Test Loss: 7.748603536583687e-08 \n",
            "Epoch: 180 | MAE Train Loss: 4.515051728049002e-07 | MAE Test Loss: 7.748603536583687e-08 \n",
            "Epoch: 181 | MAE Train Loss: 4.515051728049002e-07 | MAE Test Loss: 7.748603536583687e-08 \n",
            "Epoch: 182 | MAE Train Loss: 4.515051728049002e-07 | MAE Test Loss: 7.748603536583687e-08 \n",
            "Epoch: 183 | MAE Train Loss: 4.515051728049002e-07 | MAE Test Loss: 7.748603536583687e-08 \n",
            "Epoch: 184 | MAE Train Loss: 4.515051728049002e-07 | MAE Test Loss: 7.748603536583687e-08 \n",
            "Epoch: 185 | MAE Train Loss: 4.515051728049002e-07 | MAE Test Loss: 7.748603536583687e-08 \n",
            "Epoch: 186 | MAE Train Loss: 4.515051728049002e-07 | MAE Test Loss: 7.748603536583687e-08 \n",
            "Epoch: 187 | MAE Train Loss: 4.515051728049002e-07 | MAE Test Loss: 7.748603536583687e-08 \n",
            "Epoch: 188 | MAE Train Loss: 4.515051728049002e-07 | MAE Test Loss: 7.748603536583687e-08 \n",
            "Epoch: 189 | MAE Train Loss: 4.515051728049002e-07 | MAE Test Loss: 7.748603536583687e-08 \n",
            "Epoch: 190 | MAE Train Loss: 4.515051728049002e-07 | MAE Test Loss: 7.748603536583687e-08 \n",
            "Epoch: 191 | MAE Train Loss: 4.515051728049002e-07 | MAE Test Loss: 7.748603536583687e-08 \n",
            "Epoch: 192 | MAE Train Loss: 4.515051728049002e-07 | MAE Test Loss: 7.748603536583687e-08 \n",
            "Epoch: 193 | MAE Train Loss: 4.515051728049002e-07 | MAE Test Loss: 7.748603536583687e-08 \n",
            "Epoch: 194 | MAE Train Loss: 4.515051728049002e-07 | MAE Test Loss: 7.748603536583687e-08 \n",
            "Epoch: 195 | MAE Train Loss: 4.515051728049002e-07 | MAE Test Loss: 7.748603536583687e-08 \n",
            "Epoch: 196 | MAE Train Loss: 4.515051728049002e-07 | MAE Test Loss: 7.748603536583687e-08 \n",
            "Epoch: 197 | MAE Train Loss: 4.515051728049002e-07 | MAE Test Loss: 7.748603536583687e-08 \n",
            "Epoch: 198 | MAE Train Loss: 4.515051728049002e-07 | MAE Test Loss: 7.748603536583687e-08 \n",
            "Epoch: 199 | MAE Train Loss: 4.515051728049002e-07 | MAE Test Loss: 7.748603536583687e-08 \n",
            "Epoch: 200 | MAE Train Loss: 4.515051728049002e-07 | MAE Test Loss: 7.748603536583687e-08 \n",
            "Epoch: 201 | MAE Train Loss: 4.515051728049002e-07 | MAE Test Loss: 7.748603536583687e-08 \n",
            "Epoch: 202 | MAE Train Loss: 4.515051728049002e-07 | MAE Test Loss: 7.748603536583687e-08 \n",
            "Epoch: 203 | MAE Train Loss: 4.515051728049002e-07 | MAE Test Loss: 7.748603536583687e-08 \n",
            "Epoch: 204 | MAE Train Loss: 4.515051728049002e-07 | MAE Test Loss: 7.748603536583687e-08 \n",
            "Epoch: 205 | MAE Train Loss: 4.515051728049002e-07 | MAE Test Loss: 7.748603536583687e-08 \n",
            "Epoch: 206 | MAE Train Loss: 4.515051728049002e-07 | MAE Test Loss: 7.748603536583687e-08 \n",
            "Epoch: 207 | MAE Train Loss: 4.515051728049002e-07 | MAE Test Loss: 7.748603536583687e-08 \n",
            "Epoch: 208 | MAE Train Loss: 4.515051728049002e-07 | MAE Test Loss: 7.748603536583687e-08 \n",
            "Epoch: 209 | MAE Train Loss: 4.515051728049002e-07 | MAE Test Loss: 7.748603536583687e-08 \n",
            "Epoch: 210 | MAE Train Loss: 4.515051728049002e-07 | MAE Test Loss: 7.748603536583687e-08 \n",
            "Epoch: 211 | MAE Train Loss: 4.515051728049002e-07 | MAE Test Loss: 7.748603536583687e-08 \n",
            "Epoch: 212 | MAE Train Loss: 4.515051728049002e-07 | MAE Test Loss: 7.748603536583687e-08 \n",
            "Epoch: 213 | MAE Train Loss: 4.515051728049002e-07 | MAE Test Loss: 7.748603536583687e-08 \n",
            "Epoch: 214 | MAE Train Loss: 4.515051728049002e-07 | MAE Test Loss: 7.748603536583687e-08 \n",
            "Epoch: 215 | MAE Train Loss: 4.515051728049002e-07 | MAE Test Loss: 7.748603536583687e-08 \n",
            "Epoch: 216 | MAE Train Loss: 4.515051728049002e-07 | MAE Test Loss: 7.748603536583687e-08 \n",
            "Epoch: 217 | MAE Train Loss: 4.515051728049002e-07 | MAE Test Loss: 7.748603536583687e-08 \n",
            "Epoch: 218 | MAE Train Loss: 4.515051728049002e-07 | MAE Test Loss: 7.748603536583687e-08 \n",
            "Epoch: 219 | MAE Train Loss: 4.515051728049002e-07 | MAE Test Loss: 7.748603536583687e-08 \n",
            "Epoch: 220 | MAE Train Loss: 4.515051728049002e-07 | MAE Test Loss: 7.748603536583687e-08 \n",
            "Epoch: 221 | MAE Train Loss: 4.515051728049002e-07 | MAE Test Loss: 7.748603536583687e-08 \n",
            "Epoch: 222 | MAE Train Loss: 4.515051728049002e-07 | MAE Test Loss: 7.748603536583687e-08 \n",
            "Epoch: 223 | MAE Train Loss: 4.515051728049002e-07 | MAE Test Loss: 7.748603536583687e-08 \n",
            "Epoch: 224 | MAE Train Loss: 4.515051728049002e-07 | MAE Test Loss: 7.748603536583687e-08 \n",
            "Epoch: 225 | MAE Train Loss: 4.515051728049002e-07 | MAE Test Loss: 7.748603536583687e-08 \n",
            "Epoch: 226 | MAE Train Loss: 4.515051728049002e-07 | MAE Test Loss: 7.748603536583687e-08 \n",
            "Epoch: 227 | MAE Train Loss: 4.515051728049002e-07 | MAE Test Loss: 7.748603536583687e-08 \n",
            "Epoch: 228 | MAE Train Loss: 4.515051728049002e-07 | MAE Test Loss: 7.748603536583687e-08 \n",
            "Epoch: 229 | MAE Train Loss: 4.515051728049002e-07 | MAE Test Loss: 7.748603536583687e-08 \n",
            "Epoch: 230 | MAE Train Loss: 4.515051728049002e-07 | MAE Test Loss: 7.748603536583687e-08 \n",
            "Epoch: 231 | MAE Train Loss: 4.515051728049002e-07 | MAE Test Loss: 7.748603536583687e-08 \n",
            "Epoch: 232 | MAE Train Loss: 4.515051728049002e-07 | MAE Test Loss: 7.748603536583687e-08 \n",
            "Epoch: 233 | MAE Train Loss: 4.515051728049002e-07 | MAE Test Loss: 7.748603536583687e-08 \n",
            "Epoch: 234 | MAE Train Loss: 4.515051728049002e-07 | MAE Test Loss: 7.748603536583687e-08 \n",
            "Epoch: 235 | MAE Train Loss: 4.515051728049002e-07 | MAE Test Loss: 7.748603536583687e-08 \n",
            "Epoch: 236 | MAE Train Loss: 4.515051728049002e-07 | MAE Test Loss: 7.748603536583687e-08 \n",
            "Epoch: 237 | MAE Train Loss: 4.515051728049002e-07 | MAE Test Loss: 7.748603536583687e-08 \n",
            "Epoch: 238 | MAE Train Loss: 4.515051728049002e-07 | MAE Test Loss: 7.748603536583687e-08 \n",
            "Epoch: 239 | MAE Train Loss: 4.515051728049002e-07 | MAE Test Loss: 7.748603536583687e-08 \n",
            "Epoch: 240 | MAE Train Loss: 4.515051728049002e-07 | MAE Test Loss: 7.748603536583687e-08 \n",
            "Epoch: 241 | MAE Train Loss: 4.515051728049002e-07 | MAE Test Loss: 7.748603536583687e-08 \n",
            "Epoch: 242 | MAE Train Loss: 4.515051728049002e-07 | MAE Test Loss: 7.748603536583687e-08 \n",
            "Epoch: 243 | MAE Train Loss: 4.515051728049002e-07 | MAE Test Loss: 7.748603536583687e-08 \n",
            "Epoch: 244 | MAE Train Loss: 4.515051728049002e-07 | MAE Test Loss: 7.748603536583687e-08 \n",
            "Epoch: 245 | MAE Train Loss: 4.515051728049002e-07 | MAE Test Loss: 7.748603536583687e-08 \n",
            "Epoch: 246 | MAE Train Loss: 4.515051728049002e-07 | MAE Test Loss: 7.748603536583687e-08 \n",
            "Epoch: 247 | MAE Train Loss: 4.515051728049002e-07 | MAE Test Loss: 7.748603536583687e-08 \n",
            "Epoch: 248 | MAE Train Loss: 4.515051728049002e-07 | MAE Test Loss: 7.748603536583687e-08 \n",
            "Epoch: 249 | MAE Train Loss: 4.515051728049002e-07 | MAE Test Loss: 7.748603536583687e-08 \n",
            "Epoch: 250 | MAE Train Loss: 4.515051728049002e-07 | MAE Test Loss: 7.748603536583687e-08 \n",
            "Epoch: 251 | MAE Train Loss: 4.515051728049002e-07 | MAE Test Loss: 7.748603536583687e-08 \n",
            "Epoch: 252 | MAE Train Loss: 4.515051728049002e-07 | MAE Test Loss: 7.748603536583687e-08 \n",
            "Epoch: 253 | MAE Train Loss: 4.515051728049002e-07 | MAE Test Loss: 7.748603536583687e-08 \n",
            "Epoch: 254 | MAE Train Loss: 4.515051728049002e-07 | MAE Test Loss: 7.748603536583687e-08 \n",
            "Epoch: 255 | MAE Train Loss: 4.515051728049002e-07 | MAE Test Loss: 7.748603536583687e-08 \n",
            "Epoch: 256 | MAE Train Loss: 4.515051728049002e-07 | MAE Test Loss: 7.748603536583687e-08 \n",
            "Epoch: 257 | MAE Train Loss: 4.515051728049002e-07 | MAE Test Loss: 7.748603536583687e-08 \n",
            "Epoch: 258 | MAE Train Loss: 4.515051728049002e-07 | MAE Test Loss: 7.748603536583687e-08 \n",
            "Epoch: 259 | MAE Train Loss: 4.515051728049002e-07 | MAE Test Loss: 7.748603536583687e-08 \n",
            "Epoch: 260 | MAE Train Loss: 4.515051728049002e-07 | MAE Test Loss: 7.748603536583687e-08 \n",
            "Epoch: 261 | MAE Train Loss: 4.515051728049002e-07 | MAE Test Loss: 7.748603536583687e-08 \n",
            "Epoch: 262 | MAE Train Loss: 4.515051728049002e-07 | MAE Test Loss: 7.748603536583687e-08 \n",
            "Epoch: 263 | MAE Train Loss: 4.515051728049002e-07 | MAE Test Loss: 7.748603536583687e-08 \n",
            "Epoch: 264 | MAE Train Loss: 4.515051728049002e-07 | MAE Test Loss: 7.748603536583687e-08 \n",
            "Epoch: 265 | MAE Train Loss: 4.515051728049002e-07 | MAE Test Loss: 7.748603536583687e-08 \n",
            "Epoch: 266 | MAE Train Loss: 4.515051728049002e-07 | MAE Test Loss: 7.748603536583687e-08 \n",
            "Epoch: 267 | MAE Train Loss: 4.515051728049002e-07 | MAE Test Loss: 7.748603536583687e-08 \n",
            "Epoch: 268 | MAE Train Loss: 4.515051728049002e-07 | MAE Test Loss: 7.748603536583687e-08 \n",
            "Epoch: 269 | MAE Train Loss: 4.515051728049002e-07 | MAE Test Loss: 7.748603536583687e-08 \n",
            "Epoch: 270 | MAE Train Loss: 4.515051728049002e-07 | MAE Test Loss: 7.748603536583687e-08 \n",
            "Epoch: 271 | MAE Train Loss: 4.515051728049002e-07 | MAE Test Loss: 7.748603536583687e-08 \n",
            "Epoch: 272 | MAE Train Loss: 4.515051728049002e-07 | MAE Test Loss: 7.748603536583687e-08 \n",
            "Epoch: 273 | MAE Train Loss: 4.515051728049002e-07 | MAE Test Loss: 7.748603536583687e-08 \n",
            "Epoch: 274 | MAE Train Loss: 4.515051728049002e-07 | MAE Test Loss: 7.748603536583687e-08 \n",
            "Epoch: 275 | MAE Train Loss: 4.515051728049002e-07 | MAE Test Loss: 7.748603536583687e-08 \n",
            "Epoch: 276 | MAE Train Loss: 4.515051728049002e-07 | MAE Test Loss: 7.748603536583687e-08 \n",
            "Epoch: 277 | MAE Train Loss: 4.515051728049002e-07 | MAE Test Loss: 7.748603536583687e-08 \n",
            "Epoch: 278 | MAE Train Loss: 4.515051728049002e-07 | MAE Test Loss: 7.748603536583687e-08 \n",
            "Epoch: 279 | MAE Train Loss: 4.515051728049002e-07 | MAE Test Loss: 7.748603536583687e-08 \n",
            "Epoch: 280 | MAE Train Loss: 4.515051728049002e-07 | MAE Test Loss: 7.748603536583687e-08 \n",
            "Epoch: 281 | MAE Train Loss: 4.515051728049002e-07 | MAE Test Loss: 7.748603536583687e-08 \n",
            "Epoch: 282 | MAE Train Loss: 4.515051728049002e-07 | MAE Test Loss: 7.748603536583687e-08 \n",
            "Epoch: 283 | MAE Train Loss: 4.515051728049002e-07 | MAE Test Loss: 7.748603536583687e-08 \n",
            "Epoch: 284 | MAE Train Loss: 4.515051728049002e-07 | MAE Test Loss: 7.748603536583687e-08 \n",
            "Epoch: 285 | MAE Train Loss: 4.515051728049002e-07 | MAE Test Loss: 7.748603536583687e-08 \n",
            "Epoch: 286 | MAE Train Loss: 4.515051728049002e-07 | MAE Test Loss: 7.748603536583687e-08 \n",
            "Epoch: 287 | MAE Train Loss: 4.515051728049002e-07 | MAE Test Loss: 7.748603536583687e-08 \n",
            "Epoch: 288 | MAE Train Loss: 4.515051728049002e-07 | MAE Test Loss: 7.748603536583687e-08 \n",
            "Epoch: 289 | MAE Train Loss: 4.515051728049002e-07 | MAE Test Loss: 7.748603536583687e-08 \n",
            "Epoch: 290 | MAE Train Loss: 4.515051728049002e-07 | MAE Test Loss: 7.748603536583687e-08 \n",
            "Epoch: 291 | MAE Train Loss: 4.515051728049002e-07 | MAE Test Loss: 7.748603536583687e-08 \n",
            "Epoch: 292 | MAE Train Loss: 4.515051728049002e-07 | MAE Test Loss: 7.748603536583687e-08 \n",
            "Epoch: 293 | MAE Train Loss: 4.515051728049002e-07 | MAE Test Loss: 7.748603536583687e-08 \n",
            "Epoch: 294 | MAE Train Loss: 4.515051728049002e-07 | MAE Test Loss: 7.748603536583687e-08 \n",
            "Epoch: 295 | MAE Train Loss: 4.515051728049002e-07 | MAE Test Loss: 7.748603536583687e-08 \n",
            "Epoch: 296 | MAE Train Loss: 4.515051728049002e-07 | MAE Test Loss: 7.748603536583687e-08 \n",
            "Epoch: 297 | MAE Train Loss: 4.515051728049002e-07 | MAE Test Loss: 7.748603536583687e-08 \n",
            "Epoch: 298 | MAE Train Loss: 4.515051728049002e-07 | MAE Test Loss: 7.748603536583687e-08 \n",
            "Epoch: 299 | MAE Train Loss: 4.515051728049002e-07 | MAE Test Loss: 7.748603536583687e-08 \n",
            "Epoch: 300 | MAE Train Loss: 4.515051728049002e-07 | MAE Test Loss: 7.748603536583687e-08 \n",
            "Epoch: 301 | MAE Train Loss: 4.515051728049002e-07 | MAE Test Loss: 7.748603536583687e-08 \n",
            "Epoch: 302 | MAE Train Loss: 4.515051728049002e-07 | MAE Test Loss: 7.748603536583687e-08 \n",
            "Epoch: 303 | MAE Train Loss: 4.515051728049002e-07 | MAE Test Loss: 7.748603536583687e-08 \n",
            "Epoch: 304 | MAE Train Loss: 4.515051728049002e-07 | MAE Test Loss: 7.748603536583687e-08 \n",
            "Epoch: 305 | MAE Train Loss: 4.515051728049002e-07 | MAE Test Loss: 7.748603536583687e-08 \n",
            "Epoch: 306 | MAE Train Loss: 4.515051728049002e-07 | MAE Test Loss: 7.748603536583687e-08 \n",
            "Epoch: 307 | MAE Train Loss: 4.515051728049002e-07 | MAE Test Loss: 7.748603536583687e-08 \n",
            "Epoch: 308 | MAE Train Loss: 4.515051728049002e-07 | MAE Test Loss: 7.748603536583687e-08 \n",
            "Epoch: 309 | MAE Train Loss: 4.515051728049002e-07 | MAE Test Loss: 7.748603536583687e-08 \n",
            "Epoch: 310 | MAE Train Loss: 4.515051728049002e-07 | MAE Test Loss: 7.748603536583687e-08 \n",
            "Epoch: 311 | MAE Train Loss: 4.515051728049002e-07 | MAE Test Loss: 7.748603536583687e-08 \n",
            "Epoch: 312 | MAE Train Loss: 4.515051728049002e-07 | MAE Test Loss: 7.748603536583687e-08 \n",
            "Epoch: 313 | MAE Train Loss: 4.515051728049002e-07 | MAE Test Loss: 7.748603536583687e-08 \n",
            "Epoch: 314 | MAE Train Loss: 4.515051728049002e-07 | MAE Test Loss: 7.748603536583687e-08 \n",
            "Epoch: 315 | MAE Train Loss: 4.515051728049002e-07 | MAE Test Loss: 7.748603536583687e-08 \n",
            "Epoch: 316 | MAE Train Loss: 4.515051728049002e-07 | MAE Test Loss: 7.748603536583687e-08 \n",
            "Epoch: 317 | MAE Train Loss: 4.515051728049002e-07 | MAE Test Loss: 7.748603536583687e-08 \n",
            "Epoch: 318 | MAE Train Loss: 4.515051728049002e-07 | MAE Test Loss: 7.748603536583687e-08 \n",
            "Epoch: 319 | MAE Train Loss: 4.515051728049002e-07 | MAE Test Loss: 7.748603536583687e-08 \n",
            "Epoch: 320 | MAE Train Loss: 4.515051728049002e-07 | MAE Test Loss: 7.748603536583687e-08 \n",
            "Epoch: 321 | MAE Train Loss: 4.515051728049002e-07 | MAE Test Loss: 7.748603536583687e-08 \n",
            "Epoch: 322 | MAE Train Loss: 4.515051728049002e-07 | MAE Test Loss: 7.748603536583687e-08 \n",
            "Epoch: 323 | MAE Train Loss: 4.515051728049002e-07 | MAE Test Loss: 7.748603536583687e-08 \n",
            "Epoch: 324 | MAE Train Loss: 4.515051728049002e-07 | MAE Test Loss: 7.748603536583687e-08 \n",
            "Epoch: 325 | MAE Train Loss: 4.515051728049002e-07 | MAE Test Loss: 7.748603536583687e-08 \n",
            "Epoch: 326 | MAE Train Loss: 4.515051728049002e-07 | MAE Test Loss: 7.748603536583687e-08 \n",
            "Epoch: 327 | MAE Train Loss: 4.515051728049002e-07 | MAE Test Loss: 7.748603536583687e-08 \n",
            "Epoch: 328 | MAE Train Loss: 4.515051728049002e-07 | MAE Test Loss: 7.748603536583687e-08 \n",
            "Epoch: 329 | MAE Train Loss: 4.515051728049002e-07 | MAE Test Loss: 7.748603536583687e-08 \n",
            "Epoch: 330 | MAE Train Loss: 4.515051728049002e-07 | MAE Test Loss: 7.748603536583687e-08 \n",
            "Epoch: 331 | MAE Train Loss: 4.515051728049002e-07 | MAE Test Loss: 7.748603536583687e-08 \n",
            "Epoch: 332 | MAE Train Loss: 4.515051728049002e-07 | MAE Test Loss: 7.748603536583687e-08 \n",
            "Epoch: 333 | MAE Train Loss: 4.515051728049002e-07 | MAE Test Loss: 7.748603536583687e-08 \n",
            "Epoch: 334 | MAE Train Loss: 4.515051728049002e-07 | MAE Test Loss: 7.748603536583687e-08 \n",
            "Epoch: 335 | MAE Train Loss: 4.515051728049002e-07 | MAE Test Loss: 7.748603536583687e-08 \n",
            "Epoch: 336 | MAE Train Loss: 4.515051728049002e-07 | MAE Test Loss: 7.748603536583687e-08 \n",
            "Epoch: 337 | MAE Train Loss: 4.515051728049002e-07 | MAE Test Loss: 7.748603536583687e-08 \n",
            "Epoch: 338 | MAE Train Loss: 4.515051728049002e-07 | MAE Test Loss: 7.748603536583687e-08 \n",
            "Epoch: 339 | MAE Train Loss: 4.515051728049002e-07 | MAE Test Loss: 7.748603536583687e-08 \n",
            "Epoch: 340 | MAE Train Loss: 4.515051728049002e-07 | MAE Test Loss: 7.748603536583687e-08 \n",
            "Epoch: 341 | MAE Train Loss: 4.515051728049002e-07 | MAE Test Loss: 7.748603536583687e-08 \n",
            "Epoch: 342 | MAE Train Loss: 4.515051728049002e-07 | MAE Test Loss: 7.748603536583687e-08 \n",
            "Epoch: 343 | MAE Train Loss: 4.515051728049002e-07 | MAE Test Loss: 7.748603536583687e-08 \n",
            "Epoch: 344 | MAE Train Loss: 4.515051728049002e-07 | MAE Test Loss: 7.748603536583687e-08 \n",
            "Epoch: 345 | MAE Train Loss: 4.515051728049002e-07 | MAE Test Loss: 7.748603536583687e-08 \n",
            "Epoch: 346 | MAE Train Loss: 4.515051728049002e-07 | MAE Test Loss: 7.748603536583687e-08 \n",
            "Epoch: 347 | MAE Train Loss: 4.515051728049002e-07 | MAE Test Loss: 7.748603536583687e-08 \n",
            "Epoch: 348 | MAE Train Loss: 4.515051728049002e-07 | MAE Test Loss: 7.748603536583687e-08 \n",
            "Epoch: 349 | MAE Train Loss: 4.515051728049002e-07 | MAE Test Loss: 7.748603536583687e-08 \n",
            "Epoch: 350 | MAE Train Loss: 4.515051728049002e-07 | MAE Test Loss: 7.748603536583687e-08 \n",
            "Epoch: 351 | MAE Train Loss: 4.515051728049002e-07 | MAE Test Loss: 7.748603536583687e-08 \n",
            "Epoch: 352 | MAE Train Loss: 4.515051728049002e-07 | MAE Test Loss: 7.748603536583687e-08 \n",
            "Epoch: 353 | MAE Train Loss: 4.515051728049002e-07 | MAE Test Loss: 7.748603536583687e-08 \n",
            "Epoch: 354 | MAE Train Loss: 4.515051728049002e-07 | MAE Test Loss: 7.748603536583687e-08 \n",
            "Epoch: 355 | MAE Train Loss: 4.515051728049002e-07 | MAE Test Loss: 7.748603536583687e-08 \n",
            "Epoch: 356 | MAE Train Loss: 4.515051728049002e-07 | MAE Test Loss: 7.748603536583687e-08 \n",
            "Epoch: 357 | MAE Train Loss: 4.515051728049002e-07 | MAE Test Loss: 7.748603536583687e-08 \n",
            "Epoch: 358 | MAE Train Loss: 4.515051728049002e-07 | MAE Test Loss: 7.748603536583687e-08 \n",
            "Epoch: 359 | MAE Train Loss: 4.515051728049002e-07 | MAE Test Loss: 7.748603536583687e-08 \n",
            "Epoch: 360 | MAE Train Loss: 4.515051728049002e-07 | MAE Test Loss: 7.748603536583687e-08 \n",
            "Epoch: 361 | MAE Train Loss: 4.515051728049002e-07 | MAE Test Loss: 7.748603536583687e-08 \n",
            "Epoch: 362 | MAE Train Loss: 4.515051728049002e-07 | MAE Test Loss: 7.748603536583687e-08 \n",
            "Epoch: 363 | MAE Train Loss: 4.515051728049002e-07 | MAE Test Loss: 7.748603536583687e-08 \n",
            "Epoch: 364 | MAE Train Loss: 4.515051728049002e-07 | MAE Test Loss: 7.748603536583687e-08 \n",
            "Epoch: 365 | MAE Train Loss: 4.515051728049002e-07 | MAE Test Loss: 7.748603536583687e-08 \n",
            "Epoch: 366 | MAE Train Loss: 4.515051728049002e-07 | MAE Test Loss: 7.748603536583687e-08 \n",
            "Epoch: 367 | MAE Train Loss: 4.515051728049002e-07 | MAE Test Loss: 7.748603536583687e-08 \n",
            "Epoch: 368 | MAE Train Loss: 4.515051728049002e-07 | MAE Test Loss: 7.748603536583687e-08 \n",
            "Epoch: 369 | MAE Train Loss: 4.515051728049002e-07 | MAE Test Loss: 7.748603536583687e-08 \n",
            "Epoch: 370 | MAE Train Loss: 4.515051728049002e-07 | MAE Test Loss: 7.748603536583687e-08 \n",
            "Epoch: 371 | MAE Train Loss: 4.515051728049002e-07 | MAE Test Loss: 7.748603536583687e-08 \n",
            "Epoch: 372 | MAE Train Loss: 4.515051728049002e-07 | MAE Test Loss: 7.748603536583687e-08 \n",
            "Epoch: 373 | MAE Train Loss: 4.515051728049002e-07 | MAE Test Loss: 7.748603536583687e-08 \n",
            "Epoch: 374 | MAE Train Loss: 4.515051728049002e-07 | MAE Test Loss: 7.748603536583687e-08 \n",
            "Epoch: 375 | MAE Train Loss: 4.515051728049002e-07 | MAE Test Loss: 7.748603536583687e-08 \n",
            "Epoch: 376 | MAE Train Loss: 4.515051728049002e-07 | MAE Test Loss: 7.748603536583687e-08 \n",
            "Epoch: 377 | MAE Train Loss: 4.515051728049002e-07 | MAE Test Loss: 7.748603536583687e-08 \n",
            "Epoch: 378 | MAE Train Loss: 4.515051728049002e-07 | MAE Test Loss: 7.748603536583687e-08 \n",
            "Epoch: 379 | MAE Train Loss: 4.515051728049002e-07 | MAE Test Loss: 7.748603536583687e-08 \n",
            "Epoch: 380 | MAE Train Loss: 4.515051728049002e-07 | MAE Test Loss: 7.748603536583687e-08 \n",
            "Epoch: 381 | MAE Train Loss: 4.515051728049002e-07 | MAE Test Loss: 7.748603536583687e-08 \n",
            "Epoch: 382 | MAE Train Loss: 4.515051728049002e-07 | MAE Test Loss: 7.748603536583687e-08 \n",
            "Epoch: 383 | MAE Train Loss: 4.515051728049002e-07 | MAE Test Loss: 7.748603536583687e-08 \n",
            "Epoch: 384 | MAE Train Loss: 4.515051728049002e-07 | MAE Test Loss: 7.748603536583687e-08 \n",
            "Epoch: 385 | MAE Train Loss: 4.515051728049002e-07 | MAE Test Loss: 7.748603536583687e-08 \n",
            "Epoch: 386 | MAE Train Loss: 4.515051728049002e-07 | MAE Test Loss: 7.748603536583687e-08 \n",
            "Epoch: 387 | MAE Train Loss: 4.515051728049002e-07 | MAE Test Loss: 7.748603536583687e-08 \n",
            "Epoch: 388 | MAE Train Loss: 4.515051728049002e-07 | MAE Test Loss: 7.748603536583687e-08 \n",
            "Epoch: 389 | MAE Train Loss: 4.515051728049002e-07 | MAE Test Loss: 7.748603536583687e-08 \n",
            "Epoch: 390 | MAE Train Loss: 4.515051728049002e-07 | MAE Test Loss: 7.748603536583687e-08 \n",
            "Epoch: 391 | MAE Train Loss: 4.515051728049002e-07 | MAE Test Loss: 7.748603536583687e-08 \n",
            "Epoch: 392 | MAE Train Loss: 4.515051728049002e-07 | MAE Test Loss: 7.748603536583687e-08 \n",
            "Epoch: 393 | MAE Train Loss: 4.515051728049002e-07 | MAE Test Loss: 7.748603536583687e-08 \n",
            "Epoch: 394 | MAE Train Loss: 4.515051728049002e-07 | MAE Test Loss: 7.748603536583687e-08 \n",
            "Epoch: 395 | MAE Train Loss: 4.515051728049002e-07 | MAE Test Loss: 7.748603536583687e-08 \n",
            "Epoch: 396 | MAE Train Loss: 4.515051728049002e-07 | MAE Test Loss: 7.748603536583687e-08 \n",
            "Epoch: 397 | MAE Train Loss: 4.515051728049002e-07 | MAE Test Loss: 7.748603536583687e-08 \n",
            "Epoch: 398 | MAE Train Loss: 4.515051728049002e-07 | MAE Test Loss: 7.748603536583687e-08 \n",
            "Epoch: 399 | MAE Train Loss: 4.515051728049002e-07 | MAE Test Loss: 7.748603536583687e-08 \n",
            "Epoch: 400 | MAE Train Loss: 4.515051728049002e-07 | MAE Test Loss: 7.748603536583687e-08 \n",
            "Epoch: 401 | MAE Train Loss: 4.515051728049002e-07 | MAE Test Loss: 7.748603536583687e-08 \n",
            "Epoch: 402 | MAE Train Loss: 4.515051728049002e-07 | MAE Test Loss: 7.748603536583687e-08 \n",
            "Epoch: 403 | MAE Train Loss: 4.515051728049002e-07 | MAE Test Loss: 7.748603536583687e-08 \n",
            "Epoch: 404 | MAE Train Loss: 4.515051728049002e-07 | MAE Test Loss: 7.748603536583687e-08 \n",
            "Epoch: 405 | MAE Train Loss: 4.515051728049002e-07 | MAE Test Loss: 7.748603536583687e-08 \n",
            "Epoch: 406 | MAE Train Loss: 4.515051728049002e-07 | MAE Test Loss: 7.748603536583687e-08 \n",
            "Epoch: 407 | MAE Train Loss: 4.515051728049002e-07 | MAE Test Loss: 7.748603536583687e-08 \n",
            "Epoch: 408 | MAE Train Loss: 4.515051728049002e-07 | MAE Test Loss: 7.748603536583687e-08 \n",
            "Epoch: 409 | MAE Train Loss: 4.515051728049002e-07 | MAE Test Loss: 7.748603536583687e-08 \n",
            "Epoch: 410 | MAE Train Loss: 4.515051728049002e-07 | MAE Test Loss: 7.748603536583687e-08 \n",
            "Epoch: 411 | MAE Train Loss: 4.515051728049002e-07 | MAE Test Loss: 7.748603536583687e-08 \n",
            "Epoch: 412 | MAE Train Loss: 4.515051728049002e-07 | MAE Test Loss: 7.748603536583687e-08 \n",
            "Epoch: 413 | MAE Train Loss: 4.515051728049002e-07 | MAE Test Loss: 7.748603536583687e-08 \n",
            "Epoch: 414 | MAE Train Loss: 4.515051728049002e-07 | MAE Test Loss: 7.748603536583687e-08 \n",
            "Epoch: 415 | MAE Train Loss: 4.515051728049002e-07 | MAE Test Loss: 7.748603536583687e-08 \n",
            "Epoch: 416 | MAE Train Loss: 4.515051728049002e-07 | MAE Test Loss: 7.748603536583687e-08 \n",
            "Epoch: 417 | MAE Train Loss: 4.515051728049002e-07 | MAE Test Loss: 7.748603536583687e-08 \n",
            "Epoch: 418 | MAE Train Loss: 4.515051728049002e-07 | MAE Test Loss: 7.748603536583687e-08 \n",
            "Epoch: 419 | MAE Train Loss: 4.515051728049002e-07 | MAE Test Loss: 7.748603536583687e-08 \n",
            "Epoch: 420 | MAE Train Loss: 4.515051728049002e-07 | MAE Test Loss: 7.748603536583687e-08 \n",
            "Epoch: 421 | MAE Train Loss: 4.515051728049002e-07 | MAE Test Loss: 7.748603536583687e-08 \n",
            "Epoch: 422 | MAE Train Loss: 4.515051728049002e-07 | MAE Test Loss: 7.748603536583687e-08 \n",
            "Epoch: 423 | MAE Train Loss: 4.515051728049002e-07 | MAE Test Loss: 7.748603536583687e-08 \n",
            "Epoch: 424 | MAE Train Loss: 4.515051728049002e-07 | MAE Test Loss: 7.748603536583687e-08 \n",
            "Epoch: 425 | MAE Train Loss: 4.515051728049002e-07 | MAE Test Loss: 7.748603536583687e-08 \n",
            "Epoch: 426 | MAE Train Loss: 4.515051728049002e-07 | MAE Test Loss: 7.748603536583687e-08 \n",
            "Epoch: 427 | MAE Train Loss: 4.515051728049002e-07 | MAE Test Loss: 7.748603536583687e-08 \n",
            "Epoch: 428 | MAE Train Loss: 4.515051728049002e-07 | MAE Test Loss: 7.748603536583687e-08 \n",
            "Epoch: 429 | MAE Train Loss: 4.515051728049002e-07 | MAE Test Loss: 7.748603536583687e-08 \n",
            "Epoch: 430 | MAE Train Loss: 4.515051728049002e-07 | MAE Test Loss: 7.748603536583687e-08 \n",
            "Epoch: 431 | MAE Train Loss: 4.515051728049002e-07 | MAE Test Loss: 7.748603536583687e-08 \n",
            "Epoch: 432 | MAE Train Loss: 4.515051728049002e-07 | MAE Test Loss: 7.748603536583687e-08 \n",
            "Epoch: 433 | MAE Train Loss: 4.515051728049002e-07 | MAE Test Loss: 7.748603536583687e-08 \n",
            "Epoch: 434 | MAE Train Loss: 4.515051728049002e-07 | MAE Test Loss: 7.748603536583687e-08 \n",
            "Epoch: 435 | MAE Train Loss: 4.515051728049002e-07 | MAE Test Loss: 7.748603536583687e-08 \n",
            "Epoch: 436 | MAE Train Loss: 4.515051728049002e-07 | MAE Test Loss: 7.748603536583687e-08 \n",
            "Epoch: 437 | MAE Train Loss: 4.515051728049002e-07 | MAE Test Loss: 7.748603536583687e-08 \n",
            "Epoch: 438 | MAE Train Loss: 4.515051728049002e-07 | MAE Test Loss: 7.748603536583687e-08 \n",
            "Epoch: 439 | MAE Train Loss: 4.515051728049002e-07 | MAE Test Loss: 7.748603536583687e-08 \n",
            "Epoch: 440 | MAE Train Loss: 4.515051728049002e-07 | MAE Test Loss: 7.748603536583687e-08 \n",
            "Epoch: 441 | MAE Train Loss: 4.515051728049002e-07 | MAE Test Loss: 7.748603536583687e-08 \n",
            "Epoch: 442 | MAE Train Loss: 4.515051728049002e-07 | MAE Test Loss: 7.748603536583687e-08 \n",
            "Epoch: 443 | MAE Train Loss: 4.515051728049002e-07 | MAE Test Loss: 7.748603536583687e-08 \n",
            "Epoch: 444 | MAE Train Loss: 4.515051728049002e-07 | MAE Test Loss: 7.748603536583687e-08 \n",
            "Epoch: 445 | MAE Train Loss: 4.515051728049002e-07 | MAE Test Loss: 7.748603536583687e-08 \n",
            "Epoch: 446 | MAE Train Loss: 4.515051728049002e-07 | MAE Test Loss: 7.748603536583687e-08 \n",
            "Epoch: 447 | MAE Train Loss: 4.515051728049002e-07 | MAE Test Loss: 7.748603536583687e-08 \n",
            "Epoch: 448 | MAE Train Loss: 4.515051728049002e-07 | MAE Test Loss: 7.748603536583687e-08 \n",
            "Epoch: 449 | MAE Train Loss: 4.515051728049002e-07 | MAE Test Loss: 7.748603536583687e-08 \n",
            "Epoch: 450 | MAE Train Loss: 4.515051728049002e-07 | MAE Test Loss: 7.748603536583687e-08 \n",
            "Epoch: 451 | MAE Train Loss: 4.515051728049002e-07 | MAE Test Loss: 7.748603536583687e-08 \n",
            "Epoch: 452 | MAE Train Loss: 4.515051728049002e-07 | MAE Test Loss: 7.748603536583687e-08 \n",
            "Epoch: 453 | MAE Train Loss: 4.515051728049002e-07 | MAE Test Loss: 7.748603536583687e-08 \n",
            "Epoch: 454 | MAE Train Loss: 4.515051728049002e-07 | MAE Test Loss: 7.748603536583687e-08 \n",
            "Epoch: 455 | MAE Train Loss: 4.515051728049002e-07 | MAE Test Loss: 7.748603536583687e-08 \n",
            "Epoch: 456 | MAE Train Loss: 4.515051728049002e-07 | MAE Test Loss: 7.748603536583687e-08 \n",
            "Epoch: 457 | MAE Train Loss: 4.515051728049002e-07 | MAE Test Loss: 7.748603536583687e-08 \n",
            "Epoch: 458 | MAE Train Loss: 4.515051728049002e-07 | MAE Test Loss: 7.748603536583687e-08 \n",
            "Epoch: 459 | MAE Train Loss: 4.515051728049002e-07 | MAE Test Loss: 7.748603536583687e-08 \n",
            "Epoch: 460 | MAE Train Loss: 4.515051728049002e-07 | MAE Test Loss: 7.748603536583687e-08 \n",
            "Epoch: 461 | MAE Train Loss: 4.515051728049002e-07 | MAE Test Loss: 7.748603536583687e-08 \n",
            "Epoch: 462 | MAE Train Loss: 4.515051728049002e-07 | MAE Test Loss: 7.748603536583687e-08 \n",
            "Epoch: 463 | MAE Train Loss: 4.515051728049002e-07 | MAE Test Loss: 7.748603536583687e-08 \n",
            "Epoch: 464 | MAE Train Loss: 4.515051728049002e-07 | MAE Test Loss: 7.748603536583687e-08 \n",
            "Epoch: 465 | MAE Train Loss: 4.515051728049002e-07 | MAE Test Loss: 7.748603536583687e-08 \n",
            "Epoch: 466 | MAE Train Loss: 4.515051728049002e-07 | MAE Test Loss: 7.748603536583687e-08 \n",
            "Epoch: 467 | MAE Train Loss: 4.515051728049002e-07 | MAE Test Loss: 7.748603536583687e-08 \n",
            "Epoch: 468 | MAE Train Loss: 4.515051728049002e-07 | MAE Test Loss: 7.748603536583687e-08 \n",
            "Epoch: 469 | MAE Train Loss: 4.515051728049002e-07 | MAE Test Loss: 7.748603536583687e-08 \n",
            "Epoch: 470 | MAE Train Loss: 4.515051728049002e-07 | MAE Test Loss: 7.748603536583687e-08 \n",
            "Epoch: 471 | MAE Train Loss: 4.515051728049002e-07 | MAE Test Loss: 7.748603536583687e-08 \n",
            "Epoch: 472 | MAE Train Loss: 4.515051728049002e-07 | MAE Test Loss: 7.748603536583687e-08 \n",
            "Epoch: 473 | MAE Train Loss: 4.515051728049002e-07 | MAE Test Loss: 7.748603536583687e-08 \n",
            "Epoch: 474 | MAE Train Loss: 4.515051728049002e-07 | MAE Test Loss: 7.748603536583687e-08 \n",
            "Epoch: 475 | MAE Train Loss: 4.515051728049002e-07 | MAE Test Loss: 7.748603536583687e-08 \n",
            "Epoch: 476 | MAE Train Loss: 4.515051728049002e-07 | MAE Test Loss: 7.748603536583687e-08 \n",
            "Epoch: 477 | MAE Train Loss: 4.515051728049002e-07 | MAE Test Loss: 7.748603536583687e-08 \n",
            "Epoch: 478 | MAE Train Loss: 4.515051728049002e-07 | MAE Test Loss: 7.748603536583687e-08 \n",
            "Epoch: 479 | MAE Train Loss: 4.515051728049002e-07 | MAE Test Loss: 7.748603536583687e-08 \n",
            "Epoch: 480 | MAE Train Loss: 4.515051728049002e-07 | MAE Test Loss: 7.748603536583687e-08 \n",
            "Epoch: 481 | MAE Train Loss: 4.515051728049002e-07 | MAE Test Loss: 7.748603536583687e-08 \n",
            "Epoch: 482 | MAE Train Loss: 4.515051728049002e-07 | MAE Test Loss: 7.748603536583687e-08 \n",
            "Epoch: 483 | MAE Train Loss: 4.515051728049002e-07 | MAE Test Loss: 7.748603536583687e-08 \n",
            "Epoch: 484 | MAE Train Loss: 4.515051728049002e-07 | MAE Test Loss: 7.748603536583687e-08 \n",
            "Epoch: 485 | MAE Train Loss: 4.515051728049002e-07 | MAE Test Loss: 7.748603536583687e-08 \n",
            "Epoch: 486 | MAE Train Loss: 4.515051728049002e-07 | MAE Test Loss: 7.748603536583687e-08 \n",
            "Epoch: 487 | MAE Train Loss: 4.515051728049002e-07 | MAE Test Loss: 7.748603536583687e-08 \n",
            "Epoch: 488 | MAE Train Loss: 4.515051728049002e-07 | MAE Test Loss: 7.748603536583687e-08 \n",
            "Epoch: 489 | MAE Train Loss: 4.515051728049002e-07 | MAE Test Loss: 7.748603536583687e-08 \n",
            "Epoch: 490 | MAE Train Loss: 4.515051728049002e-07 | MAE Test Loss: 7.748603536583687e-08 \n",
            "Epoch: 491 | MAE Train Loss: 4.515051728049002e-07 | MAE Test Loss: 7.748603536583687e-08 \n",
            "Epoch: 492 | MAE Train Loss: 4.515051728049002e-07 | MAE Test Loss: 7.748603536583687e-08 \n",
            "Epoch: 493 | MAE Train Loss: 4.515051728049002e-07 | MAE Test Loss: 7.748603536583687e-08 \n",
            "Epoch: 494 | MAE Train Loss: 4.515051728049002e-07 | MAE Test Loss: 7.748603536583687e-08 \n",
            "Epoch: 495 | MAE Train Loss: 4.515051728049002e-07 | MAE Test Loss: 7.748603536583687e-08 \n",
            "Epoch: 496 | MAE Train Loss: 4.515051728049002e-07 | MAE Test Loss: 7.748603536583687e-08 \n",
            "Epoch: 497 | MAE Train Loss: 4.515051728049002e-07 | MAE Test Loss: 7.748603536583687e-08 \n",
            "Epoch: 498 | MAE Train Loss: 4.515051728049002e-07 | MAE Test Loss: 7.748603536583687e-08 \n",
            "Epoch: 499 | MAE Train Loss: 4.515051728049002e-07 | MAE Test Loss: 7.748603536583687e-08 \n",
            "Epoch: 500 | MAE Train Loss: 4.515051728049002e-07 | MAE Test Loss: 7.748603536583687e-08 \n",
            "Epoch: 501 | MAE Train Loss: 4.515051728049002e-07 | MAE Test Loss: 7.748603536583687e-08 \n",
            "Epoch: 502 | MAE Train Loss: 4.515051728049002e-07 | MAE Test Loss: 7.748603536583687e-08 \n",
            "Epoch: 503 | MAE Train Loss: 4.515051728049002e-07 | MAE Test Loss: 7.748603536583687e-08 \n",
            "Epoch: 504 | MAE Train Loss: 4.515051728049002e-07 | MAE Test Loss: 7.748603536583687e-08 \n",
            "Epoch: 505 | MAE Train Loss: 4.515051728049002e-07 | MAE Test Loss: 7.748603536583687e-08 \n",
            "Epoch: 506 | MAE Train Loss: 4.515051728049002e-07 | MAE Test Loss: 7.748603536583687e-08 \n",
            "Epoch: 507 | MAE Train Loss: 4.515051728049002e-07 | MAE Test Loss: 7.748603536583687e-08 \n",
            "Epoch: 508 | MAE Train Loss: 4.515051728049002e-07 | MAE Test Loss: 7.748603536583687e-08 \n",
            "Epoch: 509 | MAE Train Loss: 4.515051728049002e-07 | MAE Test Loss: 7.748603536583687e-08 \n",
            "Epoch: 510 | MAE Train Loss: 4.515051728049002e-07 | MAE Test Loss: 7.748603536583687e-08 \n",
            "Epoch: 511 | MAE Train Loss: 4.515051728049002e-07 | MAE Test Loss: 7.748603536583687e-08 \n",
            "Epoch: 512 | MAE Train Loss: 4.515051728049002e-07 | MAE Test Loss: 7.748603536583687e-08 \n",
            "Epoch: 513 | MAE Train Loss: 4.515051728049002e-07 | MAE Test Loss: 7.748603536583687e-08 \n",
            "Epoch: 514 | MAE Train Loss: 4.515051728049002e-07 | MAE Test Loss: 7.748603536583687e-08 \n",
            "Epoch: 515 | MAE Train Loss: 4.515051728049002e-07 | MAE Test Loss: 7.748603536583687e-08 \n",
            "Epoch: 516 | MAE Train Loss: 4.515051728049002e-07 | MAE Test Loss: 7.748603536583687e-08 \n",
            "Epoch: 517 | MAE Train Loss: 4.515051728049002e-07 | MAE Test Loss: 7.748603536583687e-08 \n",
            "Epoch: 518 | MAE Train Loss: 4.515051728049002e-07 | MAE Test Loss: 7.748603536583687e-08 \n",
            "Epoch: 519 | MAE Train Loss: 4.515051728049002e-07 | MAE Test Loss: 7.748603536583687e-08 \n",
            "Epoch: 520 | MAE Train Loss: 4.515051728049002e-07 | MAE Test Loss: 7.748603536583687e-08 \n",
            "Epoch: 521 | MAE Train Loss: 4.515051728049002e-07 | MAE Test Loss: 7.748603536583687e-08 \n",
            "Epoch: 522 | MAE Train Loss: 4.515051728049002e-07 | MAE Test Loss: 7.748603536583687e-08 \n",
            "Epoch: 523 | MAE Train Loss: 4.515051728049002e-07 | MAE Test Loss: 7.748603536583687e-08 \n",
            "Epoch: 524 | MAE Train Loss: 4.515051728049002e-07 | MAE Test Loss: 7.748603536583687e-08 \n",
            "Epoch: 525 | MAE Train Loss: 4.515051728049002e-07 | MAE Test Loss: 7.748603536583687e-08 \n",
            "Epoch: 526 | MAE Train Loss: 4.515051728049002e-07 | MAE Test Loss: 7.748603536583687e-08 \n",
            "Epoch: 527 | MAE Train Loss: 4.515051728049002e-07 | MAE Test Loss: 7.748603536583687e-08 \n",
            "Epoch: 528 | MAE Train Loss: 4.515051728049002e-07 | MAE Test Loss: 7.748603536583687e-08 \n",
            "Epoch: 529 | MAE Train Loss: 4.515051728049002e-07 | MAE Test Loss: 7.748603536583687e-08 \n",
            "Epoch: 530 | MAE Train Loss: 4.515051728049002e-07 | MAE Test Loss: 7.748603536583687e-08 \n",
            "Epoch: 531 | MAE Train Loss: 4.515051728049002e-07 | MAE Test Loss: 7.748603536583687e-08 \n",
            "Epoch: 532 | MAE Train Loss: 4.515051728049002e-07 | MAE Test Loss: 7.748603536583687e-08 \n",
            "Epoch: 533 | MAE Train Loss: 4.515051728049002e-07 | MAE Test Loss: 7.748603536583687e-08 \n",
            "Epoch: 534 | MAE Train Loss: 4.515051728049002e-07 | MAE Test Loss: 7.748603536583687e-08 \n",
            "Epoch: 535 | MAE Train Loss: 4.515051728049002e-07 | MAE Test Loss: 7.748603536583687e-08 \n",
            "Epoch: 536 | MAE Train Loss: 4.515051728049002e-07 | MAE Test Loss: 7.748603536583687e-08 \n",
            "Epoch: 537 | MAE Train Loss: 4.515051728049002e-07 | MAE Test Loss: 7.748603536583687e-08 \n",
            "Epoch: 538 | MAE Train Loss: 4.515051728049002e-07 | MAE Test Loss: 7.748603536583687e-08 \n",
            "Epoch: 539 | MAE Train Loss: 4.515051728049002e-07 | MAE Test Loss: 7.748603536583687e-08 \n",
            "Epoch: 540 | MAE Train Loss: 4.515051728049002e-07 | MAE Test Loss: 7.748603536583687e-08 \n",
            "Epoch: 541 | MAE Train Loss: 4.515051728049002e-07 | MAE Test Loss: 7.748603536583687e-08 \n",
            "Epoch: 542 | MAE Train Loss: 4.515051728049002e-07 | MAE Test Loss: 7.748603536583687e-08 \n",
            "Epoch: 543 | MAE Train Loss: 4.515051728049002e-07 | MAE Test Loss: 7.748603536583687e-08 \n",
            "Epoch: 544 | MAE Train Loss: 4.515051728049002e-07 | MAE Test Loss: 7.748603536583687e-08 \n",
            "Epoch: 545 | MAE Train Loss: 4.515051728049002e-07 | MAE Test Loss: 7.748603536583687e-08 \n",
            "Epoch: 546 | MAE Train Loss: 4.515051728049002e-07 | MAE Test Loss: 7.748603536583687e-08 \n",
            "Epoch: 547 | MAE Train Loss: 4.515051728049002e-07 | MAE Test Loss: 7.748603536583687e-08 \n",
            "Epoch: 548 | MAE Train Loss: 4.515051728049002e-07 | MAE Test Loss: 7.748603536583687e-08 \n",
            "Epoch: 549 | MAE Train Loss: 4.515051728049002e-07 | MAE Test Loss: 7.748603536583687e-08 \n",
            "Epoch: 550 | MAE Train Loss: 4.515051728049002e-07 | MAE Test Loss: 7.748603536583687e-08 \n",
            "Epoch: 551 | MAE Train Loss: 4.515051728049002e-07 | MAE Test Loss: 7.748603536583687e-08 \n",
            "Epoch: 552 | MAE Train Loss: 4.515051728049002e-07 | MAE Test Loss: 7.748603536583687e-08 \n",
            "Epoch: 553 | MAE Train Loss: 4.515051728049002e-07 | MAE Test Loss: 7.748603536583687e-08 \n",
            "Epoch: 554 | MAE Train Loss: 4.515051728049002e-07 | MAE Test Loss: 7.748603536583687e-08 \n",
            "Epoch: 555 | MAE Train Loss: 4.515051728049002e-07 | MAE Test Loss: 7.748603536583687e-08 \n",
            "Epoch: 556 | MAE Train Loss: 4.515051728049002e-07 | MAE Test Loss: 7.748603536583687e-08 \n",
            "Epoch: 557 | MAE Train Loss: 4.515051728049002e-07 | MAE Test Loss: 7.748603536583687e-08 \n",
            "Epoch: 558 | MAE Train Loss: 4.515051728049002e-07 | MAE Test Loss: 7.748603536583687e-08 \n",
            "Epoch: 559 | MAE Train Loss: 4.515051728049002e-07 | MAE Test Loss: 7.748603536583687e-08 \n",
            "Epoch: 560 | MAE Train Loss: 4.515051728049002e-07 | MAE Test Loss: 7.748603536583687e-08 \n",
            "Epoch: 561 | MAE Train Loss: 4.515051728049002e-07 | MAE Test Loss: 7.748603536583687e-08 \n",
            "Epoch: 562 | MAE Train Loss: 4.515051728049002e-07 | MAE Test Loss: 7.748603536583687e-08 \n",
            "Epoch: 563 | MAE Train Loss: 4.515051728049002e-07 | MAE Test Loss: 7.748603536583687e-08 \n",
            "Epoch: 564 | MAE Train Loss: 4.515051728049002e-07 | MAE Test Loss: 7.748603536583687e-08 \n",
            "Epoch: 565 | MAE Train Loss: 4.515051728049002e-07 | MAE Test Loss: 7.748603536583687e-08 \n",
            "Epoch: 566 | MAE Train Loss: 4.515051728049002e-07 | MAE Test Loss: 7.748603536583687e-08 \n",
            "Epoch: 567 | MAE Train Loss: 4.515051728049002e-07 | MAE Test Loss: 7.748603536583687e-08 \n",
            "Epoch: 568 | MAE Train Loss: 4.515051728049002e-07 | MAE Test Loss: 7.748603536583687e-08 \n",
            "Epoch: 569 | MAE Train Loss: 4.515051728049002e-07 | MAE Test Loss: 7.748603536583687e-08 \n",
            "Epoch: 570 | MAE Train Loss: 4.515051728049002e-07 | MAE Test Loss: 7.748603536583687e-08 \n",
            "Epoch: 571 | MAE Train Loss: 4.515051728049002e-07 | MAE Test Loss: 7.748603536583687e-08 \n",
            "Epoch: 572 | MAE Train Loss: 4.515051728049002e-07 | MAE Test Loss: 7.748603536583687e-08 \n",
            "Epoch: 573 | MAE Train Loss: 4.515051728049002e-07 | MAE Test Loss: 7.748603536583687e-08 \n",
            "Epoch: 574 | MAE Train Loss: 4.515051728049002e-07 | MAE Test Loss: 7.748603536583687e-08 \n",
            "Epoch: 575 | MAE Train Loss: 4.515051728049002e-07 | MAE Test Loss: 7.748603536583687e-08 \n",
            "Epoch: 576 | MAE Train Loss: 4.515051728049002e-07 | MAE Test Loss: 7.748603536583687e-08 \n",
            "Epoch: 577 | MAE Train Loss: 4.515051728049002e-07 | MAE Test Loss: 7.748603536583687e-08 \n",
            "Epoch: 578 | MAE Train Loss: 4.515051728049002e-07 | MAE Test Loss: 7.748603536583687e-08 \n",
            "Epoch: 579 | MAE Train Loss: 4.515051728049002e-07 | MAE Test Loss: 7.748603536583687e-08 \n",
            "Epoch: 580 | MAE Train Loss: 4.515051728049002e-07 | MAE Test Loss: 7.748603536583687e-08 \n",
            "Epoch: 581 | MAE Train Loss: 4.515051728049002e-07 | MAE Test Loss: 7.748603536583687e-08 \n",
            "Epoch: 582 | MAE Train Loss: 4.515051728049002e-07 | MAE Test Loss: 7.748603536583687e-08 \n",
            "Epoch: 583 | MAE Train Loss: 4.515051728049002e-07 | MAE Test Loss: 7.748603536583687e-08 \n",
            "Epoch: 584 | MAE Train Loss: 4.515051728049002e-07 | MAE Test Loss: 7.748603536583687e-08 \n",
            "Epoch: 585 | MAE Train Loss: 4.515051728049002e-07 | MAE Test Loss: 7.748603536583687e-08 \n",
            "Epoch: 586 | MAE Train Loss: 4.515051728049002e-07 | MAE Test Loss: 7.748603536583687e-08 \n",
            "Epoch: 587 | MAE Train Loss: 4.515051728049002e-07 | MAE Test Loss: 7.748603536583687e-08 \n",
            "Epoch: 588 | MAE Train Loss: 4.515051728049002e-07 | MAE Test Loss: 7.748603536583687e-08 \n",
            "Epoch: 589 | MAE Train Loss: 4.515051728049002e-07 | MAE Test Loss: 7.748603536583687e-08 \n",
            "Epoch: 590 | MAE Train Loss: 4.515051728049002e-07 | MAE Test Loss: 7.748603536583687e-08 \n",
            "Epoch: 591 | MAE Train Loss: 4.515051728049002e-07 | MAE Test Loss: 7.748603536583687e-08 \n",
            "Epoch: 592 | MAE Train Loss: 4.515051728049002e-07 | MAE Test Loss: 7.748603536583687e-08 \n",
            "Epoch: 593 | MAE Train Loss: 4.515051728049002e-07 | MAE Test Loss: 7.748603536583687e-08 \n",
            "Epoch: 594 | MAE Train Loss: 4.515051728049002e-07 | MAE Test Loss: 7.748603536583687e-08 \n",
            "Epoch: 595 | MAE Train Loss: 4.515051728049002e-07 | MAE Test Loss: 7.748603536583687e-08 \n",
            "Epoch: 596 | MAE Train Loss: 4.515051728049002e-07 | MAE Test Loss: 7.748603536583687e-08 \n",
            "Epoch: 597 | MAE Train Loss: 4.515051728049002e-07 | MAE Test Loss: 7.748603536583687e-08 \n",
            "Epoch: 598 | MAE Train Loss: 4.515051728049002e-07 | MAE Test Loss: 7.748603536583687e-08 \n",
            "Epoch: 599 | MAE Train Loss: 4.515051728049002e-07 | MAE Test Loss: 7.748603536583687e-08 \n",
            "Epoch: 600 | MAE Train Loss: 4.515051728049002e-07 | MAE Test Loss: 7.748603536583687e-08 \n",
            "Epoch: 601 | MAE Train Loss: 4.515051728049002e-07 | MAE Test Loss: 7.748603536583687e-08 \n",
            "Epoch: 602 | MAE Train Loss: 4.515051728049002e-07 | MAE Test Loss: 7.748603536583687e-08 \n",
            "Epoch: 603 | MAE Train Loss: 4.515051728049002e-07 | MAE Test Loss: 7.748603536583687e-08 \n",
            "Epoch: 604 | MAE Train Loss: 4.515051728049002e-07 | MAE Test Loss: 7.748603536583687e-08 \n",
            "Epoch: 605 | MAE Train Loss: 4.515051728049002e-07 | MAE Test Loss: 7.748603536583687e-08 \n",
            "Epoch: 606 | MAE Train Loss: 4.515051728049002e-07 | MAE Test Loss: 7.748603536583687e-08 \n",
            "Epoch: 607 | MAE Train Loss: 4.515051728049002e-07 | MAE Test Loss: 7.748603536583687e-08 \n",
            "Epoch: 608 | MAE Train Loss: 4.515051728049002e-07 | MAE Test Loss: 7.748603536583687e-08 \n",
            "Epoch: 609 | MAE Train Loss: 4.515051728049002e-07 | MAE Test Loss: 7.748603536583687e-08 \n",
            "Epoch: 610 | MAE Train Loss: 4.515051728049002e-07 | MAE Test Loss: 7.748603536583687e-08 \n",
            "Epoch: 611 | MAE Train Loss: 4.515051728049002e-07 | MAE Test Loss: 7.748603536583687e-08 \n",
            "Epoch: 612 | MAE Train Loss: 4.515051728049002e-07 | MAE Test Loss: 7.748603536583687e-08 \n",
            "Epoch: 613 | MAE Train Loss: 4.515051728049002e-07 | MAE Test Loss: 7.748603536583687e-08 \n",
            "Epoch: 614 | MAE Train Loss: 4.515051728049002e-07 | MAE Test Loss: 7.748603536583687e-08 \n",
            "Epoch: 615 | MAE Train Loss: 4.515051728049002e-07 | MAE Test Loss: 7.748603536583687e-08 \n",
            "Epoch: 616 | MAE Train Loss: 4.515051728049002e-07 | MAE Test Loss: 7.748603536583687e-08 \n",
            "Epoch: 617 | MAE Train Loss: 4.515051728049002e-07 | MAE Test Loss: 7.748603536583687e-08 \n",
            "Epoch: 618 | MAE Train Loss: 4.515051728049002e-07 | MAE Test Loss: 7.748603536583687e-08 \n",
            "Epoch: 619 | MAE Train Loss: 4.515051728049002e-07 | MAE Test Loss: 7.748603536583687e-08 \n",
            "Epoch: 620 | MAE Train Loss: 4.515051728049002e-07 | MAE Test Loss: 7.748603536583687e-08 \n",
            "Epoch: 621 | MAE Train Loss: 4.515051728049002e-07 | MAE Test Loss: 7.748603536583687e-08 \n",
            "Epoch: 622 | MAE Train Loss: 4.515051728049002e-07 | MAE Test Loss: 7.748603536583687e-08 \n",
            "Epoch: 623 | MAE Train Loss: 4.515051728049002e-07 | MAE Test Loss: 7.748603536583687e-08 \n",
            "Epoch: 624 | MAE Train Loss: 4.515051728049002e-07 | MAE Test Loss: 7.748603536583687e-08 \n",
            "Epoch: 625 | MAE Train Loss: 4.515051728049002e-07 | MAE Test Loss: 7.748603536583687e-08 \n",
            "Epoch: 626 | MAE Train Loss: 4.515051728049002e-07 | MAE Test Loss: 7.748603536583687e-08 \n",
            "Epoch: 627 | MAE Train Loss: 4.515051728049002e-07 | MAE Test Loss: 7.748603536583687e-08 \n",
            "Epoch: 628 | MAE Train Loss: 4.515051728049002e-07 | MAE Test Loss: 7.748603536583687e-08 \n",
            "Epoch: 629 | MAE Train Loss: 4.515051728049002e-07 | MAE Test Loss: 7.748603536583687e-08 \n",
            "Epoch: 630 | MAE Train Loss: 4.515051728049002e-07 | MAE Test Loss: 7.748603536583687e-08 \n",
            "Epoch: 631 | MAE Train Loss: 4.515051728049002e-07 | MAE Test Loss: 7.748603536583687e-08 \n",
            "Epoch: 632 | MAE Train Loss: 4.515051728049002e-07 | MAE Test Loss: 7.748603536583687e-08 \n",
            "Epoch: 633 | MAE Train Loss: 4.515051728049002e-07 | MAE Test Loss: 7.748603536583687e-08 \n",
            "Epoch: 634 | MAE Train Loss: 4.515051728049002e-07 | MAE Test Loss: 7.748603536583687e-08 \n",
            "Epoch: 635 | MAE Train Loss: 4.515051728049002e-07 | MAE Test Loss: 7.748603536583687e-08 \n",
            "Epoch: 636 | MAE Train Loss: 4.515051728049002e-07 | MAE Test Loss: 7.748603536583687e-08 \n",
            "Epoch: 637 | MAE Train Loss: 4.515051728049002e-07 | MAE Test Loss: 7.748603536583687e-08 \n",
            "Epoch: 638 | MAE Train Loss: 4.515051728049002e-07 | MAE Test Loss: 7.748603536583687e-08 \n",
            "Epoch: 639 | MAE Train Loss: 4.515051728049002e-07 | MAE Test Loss: 7.748603536583687e-08 \n",
            "Epoch: 640 | MAE Train Loss: 4.515051728049002e-07 | MAE Test Loss: 7.748603536583687e-08 \n",
            "Epoch: 641 | MAE Train Loss: 4.515051728049002e-07 | MAE Test Loss: 7.748603536583687e-08 \n",
            "Epoch: 642 | MAE Train Loss: 4.515051728049002e-07 | MAE Test Loss: 7.748603536583687e-08 \n",
            "Epoch: 643 | MAE Train Loss: 4.515051728049002e-07 | MAE Test Loss: 7.748603536583687e-08 \n",
            "Epoch: 644 | MAE Train Loss: 4.515051728049002e-07 | MAE Test Loss: 7.748603536583687e-08 \n",
            "Epoch: 645 | MAE Train Loss: 4.515051728049002e-07 | MAE Test Loss: 7.748603536583687e-08 \n",
            "Epoch: 646 | MAE Train Loss: 4.515051728049002e-07 | MAE Test Loss: 7.748603536583687e-08 \n",
            "Epoch: 647 | MAE Train Loss: 4.515051728049002e-07 | MAE Test Loss: 7.748603536583687e-08 \n",
            "Epoch: 648 | MAE Train Loss: 4.515051728049002e-07 | MAE Test Loss: 7.748603536583687e-08 \n",
            "Epoch: 649 | MAE Train Loss: 4.515051728049002e-07 | MAE Test Loss: 7.748603536583687e-08 \n",
            "Epoch: 650 | MAE Train Loss: 4.515051728049002e-07 | MAE Test Loss: 7.748603536583687e-08 \n",
            "Epoch: 651 | MAE Train Loss: 4.515051728049002e-07 | MAE Test Loss: 7.748603536583687e-08 \n",
            "Epoch: 652 | MAE Train Loss: 4.515051728049002e-07 | MAE Test Loss: 7.748603536583687e-08 \n",
            "Epoch: 653 | MAE Train Loss: 4.515051728049002e-07 | MAE Test Loss: 7.748603536583687e-08 \n",
            "Epoch: 654 | MAE Train Loss: 4.515051728049002e-07 | MAE Test Loss: 7.748603536583687e-08 \n",
            "Epoch: 655 | MAE Train Loss: 4.515051728049002e-07 | MAE Test Loss: 7.748603536583687e-08 \n",
            "Epoch: 656 | MAE Train Loss: 4.515051728049002e-07 | MAE Test Loss: 7.748603536583687e-08 \n",
            "Epoch: 657 | MAE Train Loss: 4.515051728049002e-07 | MAE Test Loss: 7.748603536583687e-08 \n",
            "Epoch: 658 | MAE Train Loss: 4.515051728049002e-07 | MAE Test Loss: 7.748603536583687e-08 \n",
            "Epoch: 659 | MAE Train Loss: 4.515051728049002e-07 | MAE Test Loss: 7.748603536583687e-08 \n",
            "Epoch: 660 | MAE Train Loss: 4.515051728049002e-07 | MAE Test Loss: 7.748603536583687e-08 \n",
            "Epoch: 661 | MAE Train Loss: 4.515051728049002e-07 | MAE Test Loss: 7.748603536583687e-08 \n",
            "Epoch: 662 | MAE Train Loss: 4.515051728049002e-07 | MAE Test Loss: 7.748603536583687e-08 \n",
            "Epoch: 663 | MAE Train Loss: 4.515051728049002e-07 | MAE Test Loss: 7.748603536583687e-08 \n",
            "Epoch: 664 | MAE Train Loss: 4.515051728049002e-07 | MAE Test Loss: 7.748603536583687e-08 \n",
            "Epoch: 665 | MAE Train Loss: 4.515051728049002e-07 | MAE Test Loss: 7.748603536583687e-08 \n",
            "Epoch: 666 | MAE Train Loss: 4.515051728049002e-07 | MAE Test Loss: 7.748603536583687e-08 \n",
            "Epoch: 667 | MAE Train Loss: 4.515051728049002e-07 | MAE Test Loss: 7.748603536583687e-08 \n",
            "Epoch: 668 | MAE Train Loss: 4.515051728049002e-07 | MAE Test Loss: 7.748603536583687e-08 \n",
            "Epoch: 669 | MAE Train Loss: 4.515051728049002e-07 | MAE Test Loss: 7.748603536583687e-08 \n",
            "Epoch: 670 | MAE Train Loss: 4.515051728049002e-07 | MAE Test Loss: 7.748603536583687e-08 \n",
            "Epoch: 671 | MAE Train Loss: 4.515051728049002e-07 | MAE Test Loss: 7.748603536583687e-08 \n",
            "Epoch: 672 | MAE Train Loss: 4.515051728049002e-07 | MAE Test Loss: 7.748603536583687e-08 \n",
            "Epoch: 673 | MAE Train Loss: 4.515051728049002e-07 | MAE Test Loss: 7.748603536583687e-08 \n",
            "Epoch: 674 | MAE Train Loss: 4.515051728049002e-07 | MAE Test Loss: 7.748603536583687e-08 \n",
            "Epoch: 675 | MAE Train Loss: 4.515051728049002e-07 | MAE Test Loss: 7.748603536583687e-08 \n",
            "Epoch: 676 | MAE Train Loss: 4.515051728049002e-07 | MAE Test Loss: 7.748603536583687e-08 \n",
            "Epoch: 677 | MAE Train Loss: 4.515051728049002e-07 | MAE Test Loss: 7.748603536583687e-08 \n",
            "Epoch: 678 | MAE Train Loss: 4.515051728049002e-07 | MAE Test Loss: 7.748603536583687e-08 \n",
            "Epoch: 679 | MAE Train Loss: 4.515051728049002e-07 | MAE Test Loss: 7.748603536583687e-08 \n",
            "Epoch: 680 | MAE Train Loss: 4.515051728049002e-07 | MAE Test Loss: 7.748603536583687e-08 \n",
            "Epoch: 681 | MAE Train Loss: 4.515051728049002e-07 | MAE Test Loss: 7.748603536583687e-08 \n",
            "Epoch: 682 | MAE Train Loss: 4.515051728049002e-07 | MAE Test Loss: 7.748603536583687e-08 \n",
            "Epoch: 683 | MAE Train Loss: 4.515051728049002e-07 | MAE Test Loss: 7.748603536583687e-08 \n",
            "Epoch: 684 | MAE Train Loss: 4.515051728049002e-07 | MAE Test Loss: 7.748603536583687e-08 \n",
            "Epoch: 685 | MAE Train Loss: 4.515051728049002e-07 | MAE Test Loss: 7.748603536583687e-08 \n",
            "Epoch: 686 | MAE Train Loss: 4.515051728049002e-07 | MAE Test Loss: 7.748603536583687e-08 \n",
            "Epoch: 687 | MAE Train Loss: 4.515051728049002e-07 | MAE Test Loss: 7.748603536583687e-08 \n",
            "Epoch: 688 | MAE Train Loss: 4.515051728049002e-07 | MAE Test Loss: 7.748603536583687e-08 \n",
            "Epoch: 689 | MAE Train Loss: 4.515051728049002e-07 | MAE Test Loss: 7.748603536583687e-08 \n",
            "Epoch: 690 | MAE Train Loss: 4.515051728049002e-07 | MAE Test Loss: 7.748603536583687e-08 \n",
            "Epoch: 691 | MAE Train Loss: 4.515051728049002e-07 | MAE Test Loss: 7.748603536583687e-08 \n",
            "Epoch: 692 | MAE Train Loss: 4.515051728049002e-07 | MAE Test Loss: 7.748603536583687e-08 \n",
            "Epoch: 693 | MAE Train Loss: 4.515051728049002e-07 | MAE Test Loss: 7.748603536583687e-08 \n",
            "Epoch: 694 | MAE Train Loss: 4.515051728049002e-07 | MAE Test Loss: 7.748603536583687e-08 \n",
            "Epoch: 695 | MAE Train Loss: 4.515051728049002e-07 | MAE Test Loss: 7.748603536583687e-08 \n",
            "Epoch: 696 | MAE Train Loss: 4.515051728049002e-07 | MAE Test Loss: 7.748603536583687e-08 \n",
            "Epoch: 697 | MAE Train Loss: 4.515051728049002e-07 | MAE Test Loss: 7.748603536583687e-08 \n",
            "Epoch: 698 | MAE Train Loss: 4.515051728049002e-07 | MAE Test Loss: 7.748603536583687e-08 \n",
            "Epoch: 699 | MAE Train Loss: 4.515051728049002e-07 | MAE Test Loss: 7.748603536583687e-08 \n",
            "Epoch: 700 | MAE Train Loss: 4.515051728049002e-07 | MAE Test Loss: 7.748603536583687e-08 \n",
            "Epoch: 701 | MAE Train Loss: 4.515051728049002e-07 | MAE Test Loss: 7.748603536583687e-08 \n",
            "Epoch: 702 | MAE Train Loss: 4.515051728049002e-07 | MAE Test Loss: 7.748603536583687e-08 \n",
            "Epoch: 703 | MAE Train Loss: 4.515051728049002e-07 | MAE Test Loss: 7.748603536583687e-08 \n",
            "Epoch: 704 | MAE Train Loss: 4.515051728049002e-07 | MAE Test Loss: 7.748603536583687e-08 \n",
            "Epoch: 705 | MAE Train Loss: 4.515051728049002e-07 | MAE Test Loss: 7.748603536583687e-08 \n",
            "Epoch: 706 | MAE Train Loss: 4.515051728049002e-07 | MAE Test Loss: 7.748603536583687e-08 \n",
            "Epoch: 707 | MAE Train Loss: 4.515051728049002e-07 | MAE Test Loss: 7.748603536583687e-08 \n",
            "Epoch: 708 | MAE Train Loss: 4.515051728049002e-07 | MAE Test Loss: 7.748603536583687e-08 \n",
            "Epoch: 709 | MAE Train Loss: 4.515051728049002e-07 | MAE Test Loss: 7.748603536583687e-08 \n",
            "Epoch: 710 | MAE Train Loss: 4.515051728049002e-07 | MAE Test Loss: 7.748603536583687e-08 \n",
            "Epoch: 711 | MAE Train Loss: 4.515051728049002e-07 | MAE Test Loss: 7.748603536583687e-08 \n",
            "Epoch: 712 | MAE Train Loss: 4.515051728049002e-07 | MAE Test Loss: 7.748603536583687e-08 \n",
            "Epoch: 713 | MAE Train Loss: 4.515051728049002e-07 | MAE Test Loss: 7.748603536583687e-08 \n",
            "Epoch: 714 | MAE Train Loss: 4.515051728049002e-07 | MAE Test Loss: 7.748603536583687e-08 \n",
            "Epoch: 715 | MAE Train Loss: 4.515051728049002e-07 | MAE Test Loss: 7.748603536583687e-08 \n",
            "Epoch: 716 | MAE Train Loss: 4.515051728049002e-07 | MAE Test Loss: 7.748603536583687e-08 \n",
            "Epoch: 717 | MAE Train Loss: 4.515051728049002e-07 | MAE Test Loss: 7.748603536583687e-08 \n",
            "Epoch: 718 | MAE Train Loss: 4.515051728049002e-07 | MAE Test Loss: 7.748603536583687e-08 \n",
            "Epoch: 719 | MAE Train Loss: 4.515051728049002e-07 | MAE Test Loss: 7.748603536583687e-08 \n",
            "Epoch: 720 | MAE Train Loss: 4.515051728049002e-07 | MAE Test Loss: 7.748603536583687e-08 \n",
            "Epoch: 721 | MAE Train Loss: 4.515051728049002e-07 | MAE Test Loss: 7.748603536583687e-08 \n",
            "Epoch: 722 | MAE Train Loss: 4.515051728049002e-07 | MAE Test Loss: 7.748603536583687e-08 \n",
            "Epoch: 723 | MAE Train Loss: 4.515051728049002e-07 | MAE Test Loss: 7.748603536583687e-08 \n",
            "Epoch: 724 | MAE Train Loss: 4.515051728049002e-07 | MAE Test Loss: 7.748603536583687e-08 \n",
            "Epoch: 725 | MAE Train Loss: 4.515051728049002e-07 | MAE Test Loss: 7.748603536583687e-08 \n",
            "Epoch: 726 | MAE Train Loss: 4.515051728049002e-07 | MAE Test Loss: 7.748603536583687e-08 \n",
            "Epoch: 727 | MAE Train Loss: 4.515051728049002e-07 | MAE Test Loss: 7.748603536583687e-08 \n",
            "Epoch: 728 | MAE Train Loss: 4.515051728049002e-07 | MAE Test Loss: 7.748603536583687e-08 \n",
            "Epoch: 729 | MAE Train Loss: 4.515051728049002e-07 | MAE Test Loss: 7.748603536583687e-08 \n",
            "Epoch: 730 | MAE Train Loss: 4.515051728049002e-07 | MAE Test Loss: 7.748603536583687e-08 \n",
            "Epoch: 731 | MAE Train Loss: 4.515051728049002e-07 | MAE Test Loss: 7.748603536583687e-08 \n",
            "Epoch: 732 | MAE Train Loss: 4.515051728049002e-07 | MAE Test Loss: 7.748603536583687e-08 \n",
            "Epoch: 733 | MAE Train Loss: 4.515051728049002e-07 | MAE Test Loss: 7.748603536583687e-08 \n",
            "Epoch: 734 | MAE Train Loss: 4.515051728049002e-07 | MAE Test Loss: 7.748603536583687e-08 \n",
            "Epoch: 735 | MAE Train Loss: 4.515051728049002e-07 | MAE Test Loss: 7.748603536583687e-08 \n",
            "Epoch: 736 | MAE Train Loss: 4.515051728049002e-07 | MAE Test Loss: 7.748603536583687e-08 \n",
            "Epoch: 737 | MAE Train Loss: 4.515051728049002e-07 | MAE Test Loss: 7.748603536583687e-08 \n",
            "Epoch: 738 | MAE Train Loss: 4.515051728049002e-07 | MAE Test Loss: 7.748603536583687e-08 \n",
            "Epoch: 739 | MAE Train Loss: 4.515051728049002e-07 | MAE Test Loss: 7.748603536583687e-08 \n",
            "Epoch: 740 | MAE Train Loss: 4.515051728049002e-07 | MAE Test Loss: 7.748603536583687e-08 \n",
            "Epoch: 741 | MAE Train Loss: 4.515051728049002e-07 | MAE Test Loss: 7.748603536583687e-08 \n",
            "Epoch: 742 | MAE Train Loss: 4.515051728049002e-07 | MAE Test Loss: 7.748603536583687e-08 \n",
            "Epoch: 743 | MAE Train Loss: 4.515051728049002e-07 | MAE Test Loss: 7.748603536583687e-08 \n",
            "Epoch: 744 | MAE Train Loss: 4.515051728049002e-07 | MAE Test Loss: 7.748603536583687e-08 \n",
            "Epoch: 745 | MAE Train Loss: 4.515051728049002e-07 | MAE Test Loss: 7.748603536583687e-08 \n",
            "Epoch: 746 | MAE Train Loss: 4.515051728049002e-07 | MAE Test Loss: 7.748603536583687e-08 \n",
            "Epoch: 747 | MAE Train Loss: 4.515051728049002e-07 | MAE Test Loss: 7.748603536583687e-08 \n",
            "Epoch: 748 | MAE Train Loss: 4.515051728049002e-07 | MAE Test Loss: 7.748603536583687e-08 \n",
            "Epoch: 749 | MAE Train Loss: 4.515051728049002e-07 | MAE Test Loss: 7.748603536583687e-08 \n",
            "Epoch: 750 | MAE Train Loss: 4.515051728049002e-07 | MAE Test Loss: 7.748603536583687e-08 \n",
            "Epoch: 751 | MAE Train Loss: 4.515051728049002e-07 | MAE Test Loss: 7.748603536583687e-08 \n",
            "Epoch: 752 | MAE Train Loss: 4.515051728049002e-07 | MAE Test Loss: 7.748603536583687e-08 \n",
            "Epoch: 753 | MAE Train Loss: 4.515051728049002e-07 | MAE Test Loss: 7.748603536583687e-08 \n",
            "Epoch: 754 | MAE Train Loss: 4.515051728049002e-07 | MAE Test Loss: 7.748603536583687e-08 \n",
            "Epoch: 755 | MAE Train Loss: 4.515051728049002e-07 | MAE Test Loss: 7.748603536583687e-08 \n",
            "Epoch: 756 | MAE Train Loss: 4.515051728049002e-07 | MAE Test Loss: 7.748603536583687e-08 \n",
            "Epoch: 757 | MAE Train Loss: 4.515051728049002e-07 | MAE Test Loss: 7.748603536583687e-08 \n",
            "Epoch: 758 | MAE Train Loss: 4.515051728049002e-07 | MAE Test Loss: 7.748603536583687e-08 \n",
            "Epoch: 759 | MAE Train Loss: 4.515051728049002e-07 | MAE Test Loss: 7.748603536583687e-08 \n",
            "Epoch: 760 | MAE Train Loss: 4.515051728049002e-07 | MAE Test Loss: 7.748603536583687e-08 \n",
            "Epoch: 761 | MAE Train Loss: 4.515051728049002e-07 | MAE Test Loss: 7.748603536583687e-08 \n",
            "Epoch: 762 | MAE Train Loss: 4.515051728049002e-07 | MAE Test Loss: 7.748603536583687e-08 \n",
            "Epoch: 763 | MAE Train Loss: 4.515051728049002e-07 | MAE Test Loss: 7.748603536583687e-08 \n",
            "Epoch: 764 | MAE Train Loss: 4.515051728049002e-07 | MAE Test Loss: 7.748603536583687e-08 \n",
            "Epoch: 765 | MAE Train Loss: 4.515051728049002e-07 | MAE Test Loss: 7.748603536583687e-08 \n",
            "Epoch: 766 | MAE Train Loss: 4.515051728049002e-07 | MAE Test Loss: 7.748603536583687e-08 \n",
            "Epoch: 767 | MAE Train Loss: 4.515051728049002e-07 | MAE Test Loss: 7.748603536583687e-08 \n",
            "Epoch: 768 | MAE Train Loss: 4.515051728049002e-07 | MAE Test Loss: 7.748603536583687e-08 \n",
            "Epoch: 769 | MAE Train Loss: 4.515051728049002e-07 | MAE Test Loss: 7.748603536583687e-08 \n",
            "Epoch: 770 | MAE Train Loss: 4.515051728049002e-07 | MAE Test Loss: 7.748603536583687e-08 \n",
            "Epoch: 771 | MAE Train Loss: 4.515051728049002e-07 | MAE Test Loss: 7.748603536583687e-08 \n",
            "Epoch: 772 | MAE Train Loss: 4.515051728049002e-07 | MAE Test Loss: 7.748603536583687e-08 \n",
            "Epoch: 773 | MAE Train Loss: 4.515051728049002e-07 | MAE Test Loss: 7.748603536583687e-08 \n",
            "Epoch: 774 | MAE Train Loss: 4.515051728049002e-07 | MAE Test Loss: 7.748603536583687e-08 \n",
            "Epoch: 775 | MAE Train Loss: 4.515051728049002e-07 | MAE Test Loss: 7.748603536583687e-08 \n",
            "Epoch: 776 | MAE Train Loss: 4.515051728049002e-07 | MAE Test Loss: 7.748603536583687e-08 \n",
            "Epoch: 777 | MAE Train Loss: 4.515051728049002e-07 | MAE Test Loss: 7.748603536583687e-08 \n",
            "Epoch: 778 | MAE Train Loss: 4.515051728049002e-07 | MAE Test Loss: 7.748603536583687e-08 \n",
            "Epoch: 779 | MAE Train Loss: 4.515051728049002e-07 | MAE Test Loss: 7.748603536583687e-08 \n",
            "Epoch: 780 | MAE Train Loss: 4.515051728049002e-07 | MAE Test Loss: 7.748603536583687e-08 \n",
            "Epoch: 781 | MAE Train Loss: 4.515051728049002e-07 | MAE Test Loss: 7.748603536583687e-08 \n",
            "Epoch: 782 | MAE Train Loss: 4.515051728049002e-07 | MAE Test Loss: 7.748603536583687e-08 \n",
            "Epoch: 783 | MAE Train Loss: 4.515051728049002e-07 | MAE Test Loss: 7.748603536583687e-08 \n",
            "Epoch: 784 | MAE Train Loss: 4.515051728049002e-07 | MAE Test Loss: 7.748603536583687e-08 \n",
            "Epoch: 785 | MAE Train Loss: 4.515051728049002e-07 | MAE Test Loss: 7.748603536583687e-08 \n",
            "Epoch: 786 | MAE Train Loss: 4.515051728049002e-07 | MAE Test Loss: 7.748603536583687e-08 \n",
            "Epoch: 787 | MAE Train Loss: 4.515051728049002e-07 | MAE Test Loss: 7.748603536583687e-08 \n",
            "Epoch: 788 | MAE Train Loss: 4.515051728049002e-07 | MAE Test Loss: 7.748603536583687e-08 \n",
            "Epoch: 789 | MAE Train Loss: 4.515051728049002e-07 | MAE Test Loss: 7.748603536583687e-08 \n",
            "Epoch: 790 | MAE Train Loss: 4.515051728049002e-07 | MAE Test Loss: 7.748603536583687e-08 \n",
            "Epoch: 791 | MAE Train Loss: 4.515051728049002e-07 | MAE Test Loss: 7.748603536583687e-08 \n",
            "Epoch: 792 | MAE Train Loss: 4.515051728049002e-07 | MAE Test Loss: 7.748603536583687e-08 \n",
            "Epoch: 793 | MAE Train Loss: 4.515051728049002e-07 | MAE Test Loss: 7.748603536583687e-08 \n",
            "Epoch: 794 | MAE Train Loss: 4.515051728049002e-07 | MAE Test Loss: 7.748603536583687e-08 \n",
            "Epoch: 795 | MAE Train Loss: 4.515051728049002e-07 | MAE Test Loss: 7.748603536583687e-08 \n",
            "Epoch: 796 | MAE Train Loss: 4.515051728049002e-07 | MAE Test Loss: 7.748603536583687e-08 \n",
            "Epoch: 797 | MAE Train Loss: 4.515051728049002e-07 | MAE Test Loss: 7.748603536583687e-08 \n",
            "Epoch: 798 | MAE Train Loss: 4.515051728049002e-07 | MAE Test Loss: 7.748603536583687e-08 \n",
            "Epoch: 799 | MAE Train Loss: 4.515051728049002e-07 | MAE Test Loss: 7.748603536583687e-08 \n",
            "Epoch: 800 | MAE Train Loss: 4.515051728049002e-07 | MAE Test Loss: 7.748603536583687e-08 \n",
            "Epoch: 801 | MAE Train Loss: 4.515051728049002e-07 | MAE Test Loss: 7.748603536583687e-08 \n",
            "Epoch: 802 | MAE Train Loss: 4.515051728049002e-07 | MAE Test Loss: 7.748603536583687e-08 \n",
            "Epoch: 803 | MAE Train Loss: 4.515051728049002e-07 | MAE Test Loss: 7.748603536583687e-08 \n",
            "Epoch: 804 | MAE Train Loss: 4.515051728049002e-07 | MAE Test Loss: 7.748603536583687e-08 \n",
            "Epoch: 805 | MAE Train Loss: 4.515051728049002e-07 | MAE Test Loss: 7.748603536583687e-08 \n",
            "Epoch: 806 | MAE Train Loss: 4.515051728049002e-07 | MAE Test Loss: 7.748603536583687e-08 \n",
            "Epoch: 807 | MAE Train Loss: 4.515051728049002e-07 | MAE Test Loss: 7.748603536583687e-08 \n",
            "Epoch: 808 | MAE Train Loss: 4.515051728049002e-07 | MAE Test Loss: 7.748603536583687e-08 \n",
            "Epoch: 809 | MAE Train Loss: 4.515051728049002e-07 | MAE Test Loss: 7.748603536583687e-08 \n",
            "Epoch: 810 | MAE Train Loss: 4.515051728049002e-07 | MAE Test Loss: 7.748603536583687e-08 \n",
            "Epoch: 811 | MAE Train Loss: 4.515051728049002e-07 | MAE Test Loss: 7.748603536583687e-08 \n",
            "Epoch: 812 | MAE Train Loss: 4.515051728049002e-07 | MAE Test Loss: 7.748603536583687e-08 \n",
            "Epoch: 813 | MAE Train Loss: 4.515051728049002e-07 | MAE Test Loss: 7.748603536583687e-08 \n",
            "Epoch: 814 | MAE Train Loss: 4.515051728049002e-07 | MAE Test Loss: 7.748603536583687e-08 \n",
            "Epoch: 815 | MAE Train Loss: 4.515051728049002e-07 | MAE Test Loss: 7.748603536583687e-08 \n",
            "Epoch: 816 | MAE Train Loss: 4.515051728049002e-07 | MAE Test Loss: 7.748603536583687e-08 \n",
            "Epoch: 817 | MAE Train Loss: 4.515051728049002e-07 | MAE Test Loss: 7.748603536583687e-08 \n",
            "Epoch: 818 | MAE Train Loss: 4.515051728049002e-07 | MAE Test Loss: 7.748603536583687e-08 \n",
            "Epoch: 819 | MAE Train Loss: 4.515051728049002e-07 | MAE Test Loss: 7.748603536583687e-08 \n",
            "Epoch: 820 | MAE Train Loss: 4.515051728049002e-07 | MAE Test Loss: 7.748603536583687e-08 \n",
            "Epoch: 821 | MAE Train Loss: 4.515051728049002e-07 | MAE Test Loss: 7.748603536583687e-08 \n",
            "Epoch: 822 | MAE Train Loss: 4.515051728049002e-07 | MAE Test Loss: 7.748603536583687e-08 \n",
            "Epoch: 823 | MAE Train Loss: 4.515051728049002e-07 | MAE Test Loss: 7.748603536583687e-08 \n",
            "Epoch: 824 | MAE Train Loss: 4.515051728049002e-07 | MAE Test Loss: 7.748603536583687e-08 \n",
            "Epoch: 825 | MAE Train Loss: 4.515051728049002e-07 | MAE Test Loss: 7.748603536583687e-08 \n",
            "Epoch: 826 | MAE Train Loss: 4.515051728049002e-07 | MAE Test Loss: 7.748603536583687e-08 \n",
            "Epoch: 827 | MAE Train Loss: 4.515051728049002e-07 | MAE Test Loss: 7.748603536583687e-08 \n",
            "Epoch: 828 | MAE Train Loss: 4.515051728049002e-07 | MAE Test Loss: 7.748603536583687e-08 \n",
            "Epoch: 829 | MAE Train Loss: 4.515051728049002e-07 | MAE Test Loss: 7.748603536583687e-08 \n",
            "Epoch: 830 | MAE Train Loss: 4.515051728049002e-07 | MAE Test Loss: 7.748603536583687e-08 \n",
            "Epoch: 831 | MAE Train Loss: 4.515051728049002e-07 | MAE Test Loss: 7.748603536583687e-08 \n",
            "Epoch: 832 | MAE Train Loss: 4.515051728049002e-07 | MAE Test Loss: 7.748603536583687e-08 \n",
            "Epoch: 833 | MAE Train Loss: 4.515051728049002e-07 | MAE Test Loss: 7.748603536583687e-08 \n",
            "Epoch: 834 | MAE Train Loss: 4.515051728049002e-07 | MAE Test Loss: 7.748603536583687e-08 \n",
            "Epoch: 835 | MAE Train Loss: 4.515051728049002e-07 | MAE Test Loss: 7.748603536583687e-08 \n",
            "Epoch: 836 | MAE Train Loss: 4.515051728049002e-07 | MAE Test Loss: 7.748603536583687e-08 \n",
            "Epoch: 837 | MAE Train Loss: 4.515051728049002e-07 | MAE Test Loss: 7.748603536583687e-08 \n",
            "Epoch: 838 | MAE Train Loss: 4.515051728049002e-07 | MAE Test Loss: 7.748603536583687e-08 \n",
            "Epoch: 839 | MAE Train Loss: 4.515051728049002e-07 | MAE Test Loss: 7.748603536583687e-08 \n",
            "Epoch: 840 | MAE Train Loss: 4.515051728049002e-07 | MAE Test Loss: 7.748603536583687e-08 \n",
            "Epoch: 841 | MAE Train Loss: 4.515051728049002e-07 | MAE Test Loss: 7.748603536583687e-08 \n",
            "Epoch: 842 | MAE Train Loss: 4.515051728049002e-07 | MAE Test Loss: 7.748603536583687e-08 \n",
            "Epoch: 843 | MAE Train Loss: 4.515051728049002e-07 | MAE Test Loss: 7.748603536583687e-08 \n",
            "Epoch: 844 | MAE Train Loss: 4.515051728049002e-07 | MAE Test Loss: 7.748603536583687e-08 \n",
            "Epoch: 845 | MAE Train Loss: 4.515051728049002e-07 | MAE Test Loss: 7.748603536583687e-08 \n",
            "Epoch: 846 | MAE Train Loss: 4.515051728049002e-07 | MAE Test Loss: 7.748603536583687e-08 \n",
            "Epoch: 847 | MAE Train Loss: 4.515051728049002e-07 | MAE Test Loss: 7.748603536583687e-08 \n",
            "Epoch: 848 | MAE Train Loss: 4.515051728049002e-07 | MAE Test Loss: 7.748603536583687e-08 \n",
            "Epoch: 849 | MAE Train Loss: 4.515051728049002e-07 | MAE Test Loss: 7.748603536583687e-08 \n",
            "Epoch: 850 | MAE Train Loss: 4.515051728049002e-07 | MAE Test Loss: 7.748603536583687e-08 \n",
            "Epoch: 851 | MAE Train Loss: 4.515051728049002e-07 | MAE Test Loss: 7.748603536583687e-08 \n",
            "Epoch: 852 | MAE Train Loss: 4.515051728049002e-07 | MAE Test Loss: 7.748603536583687e-08 \n",
            "Epoch: 853 | MAE Train Loss: 4.515051728049002e-07 | MAE Test Loss: 7.748603536583687e-08 \n",
            "Epoch: 854 | MAE Train Loss: 4.515051728049002e-07 | MAE Test Loss: 7.748603536583687e-08 \n",
            "Epoch: 855 | MAE Train Loss: 4.515051728049002e-07 | MAE Test Loss: 7.748603536583687e-08 \n",
            "Epoch: 856 | MAE Train Loss: 4.515051728049002e-07 | MAE Test Loss: 7.748603536583687e-08 \n",
            "Epoch: 857 | MAE Train Loss: 4.515051728049002e-07 | MAE Test Loss: 7.748603536583687e-08 \n",
            "Epoch: 858 | MAE Train Loss: 4.515051728049002e-07 | MAE Test Loss: 7.748603536583687e-08 \n",
            "Epoch: 859 | MAE Train Loss: 4.515051728049002e-07 | MAE Test Loss: 7.748603536583687e-08 \n",
            "Epoch: 860 | MAE Train Loss: 4.515051728049002e-07 | MAE Test Loss: 7.748603536583687e-08 \n",
            "Epoch: 861 | MAE Train Loss: 4.515051728049002e-07 | MAE Test Loss: 7.748603536583687e-08 \n",
            "Epoch: 862 | MAE Train Loss: 4.515051728049002e-07 | MAE Test Loss: 7.748603536583687e-08 \n",
            "Epoch: 863 | MAE Train Loss: 4.515051728049002e-07 | MAE Test Loss: 7.748603536583687e-08 \n",
            "Epoch: 864 | MAE Train Loss: 4.515051728049002e-07 | MAE Test Loss: 7.748603536583687e-08 \n",
            "Epoch: 865 | MAE Train Loss: 4.515051728049002e-07 | MAE Test Loss: 7.748603536583687e-08 \n",
            "Epoch: 866 | MAE Train Loss: 4.515051728049002e-07 | MAE Test Loss: 7.748603536583687e-08 \n",
            "Epoch: 867 | MAE Train Loss: 4.515051728049002e-07 | MAE Test Loss: 7.748603536583687e-08 \n",
            "Epoch: 868 | MAE Train Loss: 4.515051728049002e-07 | MAE Test Loss: 7.748603536583687e-08 \n",
            "Epoch: 869 | MAE Train Loss: 4.515051728049002e-07 | MAE Test Loss: 7.748603536583687e-08 \n",
            "Epoch: 870 | MAE Train Loss: 4.515051728049002e-07 | MAE Test Loss: 7.748603536583687e-08 \n",
            "Epoch: 871 | MAE Train Loss: 4.515051728049002e-07 | MAE Test Loss: 7.748603536583687e-08 \n",
            "Epoch: 872 | MAE Train Loss: 4.515051728049002e-07 | MAE Test Loss: 7.748603536583687e-08 \n",
            "Epoch: 873 | MAE Train Loss: 4.515051728049002e-07 | MAE Test Loss: 7.748603536583687e-08 \n",
            "Epoch: 874 | MAE Train Loss: 4.515051728049002e-07 | MAE Test Loss: 7.748603536583687e-08 \n",
            "Epoch: 875 | MAE Train Loss: 4.515051728049002e-07 | MAE Test Loss: 7.748603536583687e-08 \n",
            "Epoch: 876 | MAE Train Loss: 4.515051728049002e-07 | MAE Test Loss: 7.748603536583687e-08 \n",
            "Epoch: 877 | MAE Train Loss: 4.515051728049002e-07 | MAE Test Loss: 7.748603536583687e-08 \n",
            "Epoch: 878 | MAE Train Loss: 4.515051728049002e-07 | MAE Test Loss: 7.748603536583687e-08 \n",
            "Epoch: 879 | MAE Train Loss: 4.515051728049002e-07 | MAE Test Loss: 7.748603536583687e-08 \n",
            "Epoch: 880 | MAE Train Loss: 4.515051728049002e-07 | MAE Test Loss: 7.748603536583687e-08 \n",
            "Epoch: 881 | MAE Train Loss: 4.515051728049002e-07 | MAE Test Loss: 7.748603536583687e-08 \n",
            "Epoch: 882 | MAE Train Loss: 4.515051728049002e-07 | MAE Test Loss: 7.748603536583687e-08 \n",
            "Epoch: 883 | MAE Train Loss: 4.515051728049002e-07 | MAE Test Loss: 7.748603536583687e-08 \n",
            "Epoch: 884 | MAE Train Loss: 4.515051728049002e-07 | MAE Test Loss: 7.748603536583687e-08 \n",
            "Epoch: 885 | MAE Train Loss: 4.515051728049002e-07 | MAE Test Loss: 7.748603536583687e-08 \n",
            "Epoch: 886 | MAE Train Loss: 4.515051728049002e-07 | MAE Test Loss: 7.748603536583687e-08 \n",
            "Epoch: 887 | MAE Train Loss: 4.515051728049002e-07 | MAE Test Loss: 7.748603536583687e-08 \n",
            "Epoch: 888 | MAE Train Loss: 4.515051728049002e-07 | MAE Test Loss: 7.748603536583687e-08 \n",
            "Epoch: 889 | MAE Train Loss: 4.515051728049002e-07 | MAE Test Loss: 7.748603536583687e-08 \n",
            "Epoch: 890 | MAE Train Loss: 4.515051728049002e-07 | MAE Test Loss: 7.748603536583687e-08 \n",
            "Epoch: 891 | MAE Train Loss: 4.515051728049002e-07 | MAE Test Loss: 7.748603536583687e-08 \n",
            "Epoch: 892 | MAE Train Loss: 4.515051728049002e-07 | MAE Test Loss: 7.748603536583687e-08 \n",
            "Epoch: 893 | MAE Train Loss: 4.515051728049002e-07 | MAE Test Loss: 7.748603536583687e-08 \n",
            "Epoch: 894 | MAE Train Loss: 4.515051728049002e-07 | MAE Test Loss: 7.748603536583687e-08 \n",
            "Epoch: 895 | MAE Train Loss: 4.515051728049002e-07 | MAE Test Loss: 7.748603536583687e-08 \n",
            "Epoch: 896 | MAE Train Loss: 4.515051728049002e-07 | MAE Test Loss: 7.748603536583687e-08 \n",
            "Epoch: 897 | MAE Train Loss: 4.515051728049002e-07 | MAE Test Loss: 7.748603536583687e-08 \n",
            "Epoch: 898 | MAE Train Loss: 4.515051728049002e-07 | MAE Test Loss: 7.748603536583687e-08 \n",
            "Epoch: 899 | MAE Train Loss: 4.515051728049002e-07 | MAE Test Loss: 7.748603536583687e-08 \n",
            "Epoch: 900 | MAE Train Loss: 4.515051728049002e-07 | MAE Test Loss: 7.748603536583687e-08 \n",
            "Epoch: 901 | MAE Train Loss: 4.515051728049002e-07 | MAE Test Loss: 7.748603536583687e-08 \n",
            "Epoch: 902 | MAE Train Loss: 4.515051728049002e-07 | MAE Test Loss: 7.748603536583687e-08 \n",
            "Epoch: 903 | MAE Train Loss: 4.515051728049002e-07 | MAE Test Loss: 7.748603536583687e-08 \n",
            "Epoch: 904 | MAE Train Loss: 4.515051728049002e-07 | MAE Test Loss: 7.748603536583687e-08 \n",
            "Epoch: 905 | MAE Train Loss: 4.515051728049002e-07 | MAE Test Loss: 7.748603536583687e-08 \n",
            "Epoch: 906 | MAE Train Loss: 4.515051728049002e-07 | MAE Test Loss: 7.748603536583687e-08 \n",
            "Epoch: 907 | MAE Train Loss: 4.515051728049002e-07 | MAE Test Loss: 7.748603536583687e-08 \n",
            "Epoch: 908 | MAE Train Loss: 4.515051728049002e-07 | MAE Test Loss: 7.748603536583687e-08 \n",
            "Epoch: 909 | MAE Train Loss: 4.515051728049002e-07 | MAE Test Loss: 7.748603536583687e-08 \n",
            "Epoch: 910 | MAE Train Loss: 4.515051728049002e-07 | MAE Test Loss: 7.748603536583687e-08 \n",
            "Epoch: 911 | MAE Train Loss: 4.515051728049002e-07 | MAE Test Loss: 7.748603536583687e-08 \n",
            "Epoch: 912 | MAE Train Loss: 4.515051728049002e-07 | MAE Test Loss: 7.748603536583687e-08 \n",
            "Epoch: 913 | MAE Train Loss: 4.515051728049002e-07 | MAE Test Loss: 7.748603536583687e-08 \n",
            "Epoch: 914 | MAE Train Loss: 4.515051728049002e-07 | MAE Test Loss: 7.748603536583687e-08 \n",
            "Epoch: 915 | MAE Train Loss: 4.515051728049002e-07 | MAE Test Loss: 7.748603536583687e-08 \n",
            "Epoch: 916 | MAE Train Loss: 4.515051728049002e-07 | MAE Test Loss: 7.748603536583687e-08 \n",
            "Epoch: 917 | MAE Train Loss: 4.515051728049002e-07 | MAE Test Loss: 7.748603536583687e-08 \n",
            "Epoch: 918 | MAE Train Loss: 4.515051728049002e-07 | MAE Test Loss: 7.748603536583687e-08 \n",
            "Epoch: 919 | MAE Train Loss: 4.515051728049002e-07 | MAE Test Loss: 7.748603536583687e-08 \n",
            "Epoch: 920 | MAE Train Loss: 4.515051728049002e-07 | MAE Test Loss: 7.748603536583687e-08 \n",
            "Epoch: 921 | MAE Train Loss: 4.515051728049002e-07 | MAE Test Loss: 7.748603536583687e-08 \n",
            "Epoch: 922 | MAE Train Loss: 4.515051728049002e-07 | MAE Test Loss: 7.748603536583687e-08 \n",
            "Epoch: 923 | MAE Train Loss: 4.515051728049002e-07 | MAE Test Loss: 7.748603536583687e-08 \n",
            "Epoch: 924 | MAE Train Loss: 4.515051728049002e-07 | MAE Test Loss: 7.748603536583687e-08 \n",
            "Epoch: 925 | MAE Train Loss: 4.515051728049002e-07 | MAE Test Loss: 7.748603536583687e-08 \n",
            "Epoch: 926 | MAE Train Loss: 4.515051728049002e-07 | MAE Test Loss: 7.748603536583687e-08 \n",
            "Epoch: 927 | MAE Train Loss: 4.515051728049002e-07 | MAE Test Loss: 7.748603536583687e-08 \n",
            "Epoch: 928 | MAE Train Loss: 4.515051728049002e-07 | MAE Test Loss: 7.748603536583687e-08 \n",
            "Epoch: 929 | MAE Train Loss: 4.515051728049002e-07 | MAE Test Loss: 7.748603536583687e-08 \n",
            "Epoch: 930 | MAE Train Loss: 4.515051728049002e-07 | MAE Test Loss: 7.748603536583687e-08 \n",
            "Epoch: 931 | MAE Train Loss: 4.515051728049002e-07 | MAE Test Loss: 7.748603536583687e-08 \n",
            "Epoch: 932 | MAE Train Loss: 4.515051728049002e-07 | MAE Test Loss: 7.748603536583687e-08 \n",
            "Epoch: 933 | MAE Train Loss: 4.515051728049002e-07 | MAE Test Loss: 7.748603536583687e-08 \n",
            "Epoch: 934 | MAE Train Loss: 4.515051728049002e-07 | MAE Test Loss: 7.748603536583687e-08 \n",
            "Epoch: 935 | MAE Train Loss: 4.515051728049002e-07 | MAE Test Loss: 7.748603536583687e-08 \n",
            "Epoch: 936 | MAE Train Loss: 4.515051728049002e-07 | MAE Test Loss: 7.748603536583687e-08 \n",
            "Epoch: 937 | MAE Train Loss: 4.515051728049002e-07 | MAE Test Loss: 7.748603536583687e-08 \n",
            "Epoch: 938 | MAE Train Loss: 4.515051728049002e-07 | MAE Test Loss: 7.748603536583687e-08 \n",
            "Epoch: 939 | MAE Train Loss: 4.515051728049002e-07 | MAE Test Loss: 7.748603536583687e-08 \n",
            "Epoch: 940 | MAE Train Loss: 4.515051728049002e-07 | MAE Test Loss: 7.748603536583687e-08 \n",
            "Epoch: 941 | MAE Train Loss: 4.515051728049002e-07 | MAE Test Loss: 7.748603536583687e-08 \n",
            "Epoch: 942 | MAE Train Loss: 4.515051728049002e-07 | MAE Test Loss: 7.748603536583687e-08 \n",
            "Epoch: 943 | MAE Train Loss: 4.515051728049002e-07 | MAE Test Loss: 7.748603536583687e-08 \n",
            "Epoch: 944 | MAE Train Loss: 4.515051728049002e-07 | MAE Test Loss: 7.748603536583687e-08 \n",
            "Epoch: 945 | MAE Train Loss: 4.515051728049002e-07 | MAE Test Loss: 7.748603536583687e-08 \n",
            "Epoch: 946 | MAE Train Loss: 4.515051728049002e-07 | MAE Test Loss: 7.748603536583687e-08 \n",
            "Epoch: 947 | MAE Train Loss: 4.515051728049002e-07 | MAE Test Loss: 7.748603536583687e-08 \n",
            "Epoch: 948 | MAE Train Loss: 4.515051728049002e-07 | MAE Test Loss: 7.748603536583687e-08 \n",
            "Epoch: 949 | MAE Train Loss: 4.515051728049002e-07 | MAE Test Loss: 7.748603536583687e-08 \n",
            "Epoch: 950 | MAE Train Loss: 4.515051728049002e-07 | MAE Test Loss: 7.748603536583687e-08 \n",
            "Epoch: 951 | MAE Train Loss: 4.515051728049002e-07 | MAE Test Loss: 7.748603536583687e-08 \n",
            "Epoch: 952 | MAE Train Loss: 4.515051728049002e-07 | MAE Test Loss: 7.748603536583687e-08 \n",
            "Epoch: 953 | MAE Train Loss: 4.515051728049002e-07 | MAE Test Loss: 7.748603536583687e-08 \n",
            "Epoch: 954 | MAE Train Loss: 4.515051728049002e-07 | MAE Test Loss: 7.748603536583687e-08 \n",
            "Epoch: 955 | MAE Train Loss: 4.515051728049002e-07 | MAE Test Loss: 7.748603536583687e-08 \n",
            "Epoch: 956 | MAE Train Loss: 4.515051728049002e-07 | MAE Test Loss: 7.748603536583687e-08 \n",
            "Epoch: 957 | MAE Train Loss: 4.515051728049002e-07 | MAE Test Loss: 7.748603536583687e-08 \n",
            "Epoch: 958 | MAE Train Loss: 4.515051728049002e-07 | MAE Test Loss: 7.748603536583687e-08 \n",
            "Epoch: 959 | MAE Train Loss: 4.515051728049002e-07 | MAE Test Loss: 7.748603536583687e-08 \n",
            "Epoch: 960 | MAE Train Loss: 4.515051728049002e-07 | MAE Test Loss: 7.748603536583687e-08 \n",
            "Epoch: 961 | MAE Train Loss: 4.515051728049002e-07 | MAE Test Loss: 7.748603536583687e-08 \n",
            "Epoch: 962 | MAE Train Loss: 4.515051728049002e-07 | MAE Test Loss: 7.748603536583687e-08 \n",
            "Epoch: 963 | MAE Train Loss: 4.515051728049002e-07 | MAE Test Loss: 7.748603536583687e-08 \n",
            "Epoch: 964 | MAE Train Loss: 4.515051728049002e-07 | MAE Test Loss: 7.748603536583687e-08 \n",
            "Epoch: 965 | MAE Train Loss: 4.515051728049002e-07 | MAE Test Loss: 7.748603536583687e-08 \n",
            "Epoch: 966 | MAE Train Loss: 4.515051728049002e-07 | MAE Test Loss: 7.748603536583687e-08 \n",
            "Epoch: 967 | MAE Train Loss: 4.515051728049002e-07 | MAE Test Loss: 7.748603536583687e-08 \n",
            "Epoch: 968 | MAE Train Loss: 4.515051728049002e-07 | MAE Test Loss: 7.748603536583687e-08 \n",
            "Epoch: 969 | MAE Train Loss: 4.515051728049002e-07 | MAE Test Loss: 7.748603536583687e-08 \n",
            "Epoch: 970 | MAE Train Loss: 4.515051728049002e-07 | MAE Test Loss: 7.748603536583687e-08 \n",
            "Epoch: 971 | MAE Train Loss: 4.515051728049002e-07 | MAE Test Loss: 7.748603536583687e-08 \n",
            "Epoch: 972 | MAE Train Loss: 4.515051728049002e-07 | MAE Test Loss: 7.748603536583687e-08 \n",
            "Epoch: 973 | MAE Train Loss: 4.515051728049002e-07 | MAE Test Loss: 7.748603536583687e-08 \n",
            "Epoch: 974 | MAE Train Loss: 4.515051728049002e-07 | MAE Test Loss: 7.748603536583687e-08 \n",
            "Epoch: 975 | MAE Train Loss: 4.515051728049002e-07 | MAE Test Loss: 7.748603536583687e-08 \n",
            "Epoch: 976 | MAE Train Loss: 4.515051728049002e-07 | MAE Test Loss: 7.748603536583687e-08 \n",
            "Epoch: 977 | MAE Train Loss: 4.515051728049002e-07 | MAE Test Loss: 7.748603536583687e-08 \n",
            "Epoch: 978 | MAE Train Loss: 4.515051728049002e-07 | MAE Test Loss: 7.748603536583687e-08 \n",
            "Epoch: 979 | MAE Train Loss: 4.515051728049002e-07 | MAE Test Loss: 7.748603536583687e-08 \n",
            "Epoch: 980 | MAE Train Loss: 4.515051728049002e-07 | MAE Test Loss: 7.748603536583687e-08 \n",
            "Epoch: 981 | MAE Train Loss: 4.515051728049002e-07 | MAE Test Loss: 7.748603536583687e-08 \n",
            "Epoch: 982 | MAE Train Loss: 4.515051728049002e-07 | MAE Test Loss: 7.748603536583687e-08 \n",
            "Epoch: 983 | MAE Train Loss: 4.515051728049002e-07 | MAE Test Loss: 7.748603536583687e-08 \n",
            "Epoch: 984 | MAE Train Loss: 4.515051728049002e-07 | MAE Test Loss: 7.748603536583687e-08 \n",
            "Epoch: 985 | MAE Train Loss: 4.515051728049002e-07 | MAE Test Loss: 7.748603536583687e-08 \n",
            "Epoch: 986 | MAE Train Loss: 4.515051728049002e-07 | MAE Test Loss: 7.748603536583687e-08 \n",
            "Epoch: 987 | MAE Train Loss: 4.515051728049002e-07 | MAE Test Loss: 7.748603536583687e-08 \n",
            "Epoch: 988 | MAE Train Loss: 4.515051728049002e-07 | MAE Test Loss: 7.748603536583687e-08 \n",
            "Epoch: 989 | MAE Train Loss: 4.515051728049002e-07 | MAE Test Loss: 7.748603536583687e-08 \n",
            "Epoch: 990 | MAE Train Loss: 4.515051728049002e-07 | MAE Test Loss: 7.748603536583687e-08 \n",
            "Epoch: 991 | MAE Train Loss: 4.515051728049002e-07 | MAE Test Loss: 7.748603536583687e-08 \n",
            "Epoch: 992 | MAE Train Loss: 4.515051728049002e-07 | MAE Test Loss: 7.748603536583687e-08 \n",
            "Epoch: 993 | MAE Train Loss: 4.515051728049002e-07 | MAE Test Loss: 7.748603536583687e-08 \n",
            "Epoch: 994 | MAE Train Loss: 4.515051728049002e-07 | MAE Test Loss: 7.748603536583687e-08 \n",
            "Epoch: 995 | MAE Train Loss: 4.515051728049002e-07 | MAE Test Loss: 7.748603536583687e-08 \n",
            "Epoch: 996 | MAE Train Loss: 4.515051728049002e-07 | MAE Test Loss: 7.748603536583687e-08 \n",
            "Epoch: 997 | MAE Train Loss: 4.515051728049002e-07 | MAE Test Loss: 7.748603536583687e-08 \n",
            "Epoch: 998 | MAE Train Loss: 4.515051728049002e-07 | MAE Test Loss: 7.748603536583687e-08 \n",
            "Epoch: 999 | MAE Train Loss: 4.515051728049002e-07 | MAE Test Loss: 7.748603536583687e-08 \n"
          ]
        }
      ]
    },
    {
      "cell_type": "code",
      "source": [
        "with t.inference_mode():\n",
        "    y_preds = model0(X_test)"
      ],
      "metadata": {
        "id": "2BcAuSfNrv71"
      },
      "execution_count": null,
      "outputs": []
    },
    {
      "cell_type": "code",
      "source": [
        "#đánh giá mô hình\n",
        "plt.plot(epoch_count, train_loss_list, label=\"Train loss\")\n",
        "plt.plot(epoch_count, test_loss_list, label=\"Test loss\")\n",
        "plt.title(\"Training and test loss curves\")"
      ],
      "metadata": {
        "colab": {
          "base_uri": "https://localhost:8080/",
          "height": 469
        },
        "id": "xJ-iq3eviI-v",
        "outputId": "e2bc2471-945b-455f-c037-6a833a267bed"
      },
      "execution_count": null,
      "outputs": [
        {
          "output_type": "execute_result",
          "data": {
            "text/plain": [
              "Text(0.5, 1.0, 'Training and test loss curves')"
            ]
          },
          "metadata": {},
          "execution_count": 67
        },
        {
          "output_type": "display_data",
          "data": {
            "text/plain": [
              "<Figure size 640x480 with 1 Axes>"
            ],
            "image/png": "[encoded data removed]"
          },
          "metadata": {}
        }
      ]
    },
    {
      "cell_type": "code",
      "source": [
        "plot_predictions(predictions=y_preds)"
      ],
      "metadata": {
        "colab": {
          "base_uri": "https://localhost:8080/",
          "height": 599
        },
        "id": "9nzKpoBBlc63",
        "outputId": "9e1ba701-facd-4740-f9a4-737a535e0a5b"
      },
      "execution_count": null,
      "outputs": [
        {
          "output_type": "display_data",
          "data": {
            "text/plain": [
              "<Figure size 1000x700 with 1 Axes>"
            ],
            "image/png": "[encoded data removed]"
          },
          "metadata": {}
        }
      ]
    },
    {
      "cell_type": "markdown",
      "source": [
        "#Luu model"
      ],
      "metadata": {
        "id": "OMrsbKdPx4x4"
      }
    },
    {
      "cell_type": "code",
      "source": [
        "from pathlib import Path"
      ],
      "metadata": {
        "id": "PWxtR7tMnQpG"
      },
      "execution_count": null,
      "outputs": []
    },
    {
      "cell_type": "code",
      "source": [
        "model_path = Path(\"models\")\n",
        "model_path.mkdir(parents=True, exist_ok=True)\n",
        "\n",
        "model_name = \"pytorch_linear\"\n",
        "model_save_path = model_path / model_name\n"
      ],
      "metadata": {
        "id": "-locVgDKspce"
      },
      "execution_count": null,
      "outputs": []
    },
    {
      "cell_type": "code",
      "source": [
        "t.save(obj=model0.state_dict(),\n",
        "       f=model_save_path)"
      ],
      "metadata": {
        "id": "YyB6T5eRtFAG"
      },
      "execution_count": null,
      "outputs": []
    },
    {
      "cell_type": "code",
      "source": [
        "loaded_model = Linear()\n",
        "loaded_model.load_state_dict(t.load(f=model_save_path))"
      ],
      "metadata": {
        "colab": {
          "base_uri": "https://localhost:8080/"
        },
        "id": "mCP2e3q2tSbq",
        "outputId": "99bc61ce-eb98-447f-f96a-ce369209e8f1"
      },
      "execution_count": null,
      "outputs": [
        {
          "output_type": "stream",
          "name": "stderr",
          "text": [
            "<ipython-input-324-0f3f988978cf>:2: FutureWarning: You are using `torch.load` with `weights_only=False` (the current default value), which uses the default pickle module implicitly. It is possible to construct malicious pickle data which will execute arbitrary code during unpickling (See https://github.com/pytorch/pytorch/blob/main/SECURITY.md#untrusted-models for more details). In a future release, the default value for `weights_only` will be flipped to `True`. This limits the functions that could be executed during unpickling. Arbitrary objects will no longer be allowed to be loaded via this mode unless they are explicitly allowlisted by the user via `torch.serialization.add_safe_globals`. We recommend you start setting `weights_only=True` for any use case where you don't have full control of the loaded file. Please open an issue on GitHub for any issues related to this experimental feature.\n",
            "  loaded_model.load_state_dict(t.load(f=model_save_path))\n"
          ]
        },
        {
          "output_type": "execute_result",
          "data": {
            "text/plain": [
              "<All keys matched successfully>"
            ]
          },
          "metadata": {},
          "execution_count": 324
        }
      ]
    },
    {
      "cell_type": "code",
      "source": [
        "loaded_model.eval()\n",
        "\n",
        "with t.inference_mode():\n",
        "  loaded_model_preds = loaded_model(X_test)"
      ],
      "metadata": {
        "id": "T4J4Pys6uEib"
      },
      "execution_count": null,
      "outputs": []
    },
    {
      "cell_type": "code",
      "source": [
        "plot_predictions(predictions=loaded_model_preds)"
      ],
      "metadata": {
        "colab": {
          "base_uri": "https://localhost:8080/",
          "height": 599
        },
        "id": "-w36zQ4luM8n",
        "outputId": "ad9b838c-7bbe-4834-d540-b99e552735c2"
      },
      "execution_count": null,
      "outputs": [
        {
          "output_type": "display_data",
          "data": {
            "text/plain": [
              "<Figure size 1000x700 with 1 Axes>"
            ],
            "image/png": "[encoded data removed]"
          },
          "metadata": {}
        }
      ]
    },
    {
      "cell_type": "code",
      "source": [
        "y_preds == loaded_model_preds"
      ],
      "metadata": {
        "colab": {
          "base_uri": "https://localhost:8080/"
        },
        "id": "53h92S4WuR_z",
        "outputId": "1154f987-9f2c-4a12-e0f0-908174928c1d"
      },
      "execution_count": null,
      "outputs": [
        {
          "output_type": "execute_result",
          "data": {
            "text/plain": [
              "tensor([[True],\n",
              "        [True],\n",
              "        [True],\n",
              "        [True],\n",
              "        [True],\n",
              "        [True],\n",
              "        [True],\n",
              "        [True],\n",
              "        [True],\n",
              "        [True]])"
            ]
          },
          "metadata": {},
          "execution_count": 327
        }
      ]
    },
    {
      "cell_type": "code",
      "source": [
        "from pprint import pprint\n",
        "print(\"The model learned the following values for weights and bias:\")\n",
        "pprint(model0.state_dict())\n",
        "print(\"\\nAnd the original values for weights and bias are:\")\n",
        "print(f\"weights: {weight}, bias: {bias}\")"
      ],
      "metadata": {
        "colab": {
          "base_uri": "https://localhost:8080/"
        },
        "id": "PVA39v06uc-k",
        "outputId": "77cf9af8-cadd-4aff-8b52-be2a00ecfaf8"
      },
      "execution_count": null,
      "outputs": [
        {
          "output_type": "stream",
          "name": "stdout",
          "text": [
            "The model learned the following values for weights and bias:\n",
            "OrderedDict([('weights', tensor([0.4000])), ('bias', tensor([0.4000]))])\n",
            "\n",
            "And the original values for weights and bias are:\n",
            "weights: 0.4, bias: 0.4\n"
          ]
        }
      ]
    }
  ]
}